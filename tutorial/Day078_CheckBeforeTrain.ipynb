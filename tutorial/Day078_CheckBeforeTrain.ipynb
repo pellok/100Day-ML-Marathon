{
 "cells": [
  {
   "cell_type": "markdown",
   "metadata": {},
   "source": [
    "## 範例重點\n",
    "### 學習在模型開始前檢查各個環節\n",
    "1. 是否有 GPU 資源\n",
    "2. 將前處理轉為函式，統一處理訓練、驗證與測試集\n",
    "3. 將超參數變數化，易於重複使用函式、模型等"
   ]
  },
  {
   "cell_type": "code",
   "execution_count": 1,
   "metadata": {},
   "outputs": [
    {
     "name": "stdout",
     "output_type": "stream",
     "text": [
      "/bin/sh: nvidia-smi: command not found\r\n"
     ]
    }
   ],
   "source": [
    "## 確認硬體資源 (如果你是在 Linux, 若是在 Windows, 請參考 https://blog.csdn.net/idwtwt/article/details/78017565)\n",
    "!nvidia-smi"
   ]
  },
  {
   "cell_type": "code",
   "execution_count": 2,
   "metadata": {},
   "outputs": [
    {
     "name": "stderr",
     "output_type": "stream",
     "text": [
      "Using TensorFlow backend.\n"
     ]
    }
   ],
   "source": [
    "import os\n",
    "import keras\n",
    "\n",
    "# 本範例不需使用 GPU, 將 GPU 設定為 \"無\"\n",
    "os.environ[\"CUDA_VISIBLE_DEVICES\"] = \"\""
   ]
  },
  {
   "cell_type": "code",
   "execution_count": 3,
   "metadata": {},
   "outputs": [],
   "source": [
    "# 從 Keras 的內建功能中，取得 train 與 test 資料集\n",
    "train, test = keras.datasets.cifar10.load_data()"
   ]
  },
  {
   "cell_type": "code",
   "execution_count": 4,
   "metadata": {},
   "outputs": [],
   "source": [
    "## 資料前處理\n",
    "def preproc_x(x, flatten=True):\n",
    "    x = x / 255.\n",
    "    if flatten:\n",
    "        x = x.reshape((len(x), -1))\n",
    "    return x\n",
    "\n",
    "def preproc_y(y, num_classes=10):\n",
    "    if y.shape[-1] == 1:\n",
    "        y = keras.utils.to_categorical(y, num_classes)\n",
    "    return y    "
   ]
  },
  {
   "cell_type": "code",
   "execution_count": 5,
   "metadata": {},
   "outputs": [],
   "source": [
    "x_train, y_train = train\n",
    "x_test, y_test = test\n",
    "\n",
    "# 資料前處理 - X 標準化\n",
    "x_train = preproc_x(x_train)\n",
    "x_test = preproc_x(x_test)\n",
    "\n",
    "# 資料前處理 -Y 轉成 onehot\n",
    "y_train = preproc_y(y_train)\n",
    "y_test = preproc_y(y_test)"
   ]
  },
  {
   "cell_type": "code",
   "execution_count": 6,
   "metadata": {},
   "outputs": [],
   "source": [
    "def build_mlp(input_shape, output_units=10, num_neurons=[512, 256, 128]):\n",
    "    input_layer = keras.layers.Input(input_shape)\n",
    "    \n",
    "    for i, n_units in enumerate(num_neurons):\n",
    "        if i == 0:\n",
    "            x = keras.layers.Dense(units=n_units, activation=\"relu\", name=\"hidden_layer\"+str(i+1))(input_layer)\n",
    "        else:\n",
    "            x = keras.layers.Dense(units=n_units, activation=\"relu\", name=\"hidden_layer\"+str(i+1))(x)\n",
    "    \n",
    "    out = keras.layers.Dense(units=output_units, activation=\"softmax\", name=\"output\")(x)\n",
    "    \n",
    "    model = keras.models.Model(inputs=[input_layer], outputs=[out])\n",
    "    return model"
   ]
  },
  {
   "cell_type": "code",
   "execution_count": 7,
   "metadata": {},
   "outputs": [
    {
     "name": "stdout",
     "output_type": "stream",
     "text": [
      "Model: \"model\"\n",
      "_________________________________________________________________\n",
      "Layer (type)                 Output Shape              Param #   \n",
      "=================================================================\n",
      "input_1 (InputLayer)         [(None, 3072)]            0         \n",
      "_________________________________________________________________\n",
      "hidden_layer1 (Dense)        (None, 512)               1573376   \n",
      "_________________________________________________________________\n",
      "hidden_layer2 (Dense)        (None, 256)               131328    \n",
      "_________________________________________________________________\n",
      "hidden_layer3 (Dense)        (None, 128)               32896     \n",
      "_________________________________________________________________\n",
      "output (Dense)               (None, 10)                1290      \n",
      "=================================================================\n",
      "Total params: 1,738,890\n",
      "Trainable params: 1,738,890\n",
      "Non-trainable params: 0\n",
      "_________________________________________________________________\n"
     ]
    }
   ],
   "source": [
    "model = build_mlp(input_shape=x_train.shape[1:])\n",
    "model.summary()"
   ]
  },
  {
   "cell_type": "code",
   "execution_count": 8,
   "metadata": {},
   "outputs": [],
   "source": [
    "## 超參數設定\n",
    "LEARNING_RATE = 0.001\n",
    "EPOCHS = 100\n",
    "BATCH_SIZE = 256"
   ]
  },
  {
   "cell_type": "code",
   "execution_count": 9,
   "metadata": {},
   "outputs": [],
   "source": [
    "optimizer = keras.optimizers.Adam(lr=LEARNING_RATE)\n",
    "model.compile(loss=\"categorical_crossentropy\", metrics=[\"accuracy\"], optimizer=optimizer)"
   ]
  },
  {
   "cell_type": "code",
   "execution_count": 10,
   "metadata": {},
   "outputs": [
    {
     "name": "stdout",
     "output_type": "stream",
     "text": [
      "Epoch 1/100\n",
      "196/196 [==============================] - 4s 23ms/step - loss: 1.9620 - accuracy: 0.2922 - val_loss: 1.7633 - val_accuracy: 0.3790\n",
      "Epoch 2/100\n",
      "196/196 [==============================] - 5s 26ms/step - loss: 1.7219 - accuracy: 0.3856 - val_loss: 1.6521 - val_accuracy: 0.4066\n",
      "Epoch 3/100\n",
      "196/196 [==============================] - 4s 22ms/step - loss: 1.6268 - accuracy: 0.4170 - val_loss: 1.6038 - val_accuracy: 0.4347\n",
      "Epoch 4/100\n",
      "196/196 [==============================] - 4s 22ms/step - loss: 1.5646 - accuracy: 0.4407 - val_loss: 1.5363 - val_accuracy: 0.4564\n",
      "Epoch 5/100\n",
      "196/196 [==============================] - 4s 23ms/step - loss: 1.5084 - accuracy: 0.4619 - val_loss: 1.5063 - val_accuracy: 0.4634\n",
      "Epoch 6/100\n",
      "196/196 [==============================] - 5s 23ms/step - loss: 1.4692 - accuracy: 0.4766 - val_loss: 1.5322 - val_accuracy: 0.4594\n",
      "Epoch 7/100\n",
      "196/196 [==============================] - 4s 21ms/step - loss: 1.4369 - accuracy: 0.4879 - val_loss: 1.4836 - val_accuracy: 0.4688\n",
      "Epoch 8/100\n",
      "196/196 [==============================] - 4s 21ms/step - loss: 1.4036 - accuracy: 0.4961 - val_loss: 1.4670 - val_accuracy: 0.4764\n",
      "Epoch 9/100\n",
      "196/196 [==============================] - 4s 21ms/step - loss: 1.3758 - accuracy: 0.5089 - val_loss: 1.4211 - val_accuracy: 0.4912\n",
      "Epoch 10/100\n",
      "196/196 [==============================] - 4s 23ms/step - loss: 1.3485 - accuracy: 0.5194 - val_loss: 1.4512 - val_accuracy: 0.4817\n",
      "Epoch 11/100\n",
      "196/196 [==============================] - 5s 24ms/step - loss: 1.3369 - accuracy: 0.5228 - val_loss: 1.4077 - val_accuracy: 0.5069\n",
      "Epoch 12/100\n",
      "196/196 [==============================] - 5s 25ms/step - loss: 1.3034 - accuracy: 0.5358 - val_loss: 1.4409 - val_accuracy: 0.4973\n",
      "Epoch 13/100\n",
      "196/196 [==============================] - 4s 22ms/step - loss: 1.2809 - accuracy: 0.5422 - val_loss: 1.3796 - val_accuracy: 0.5170\n",
      "Epoch 14/100\n",
      "196/196 [==============================] - 4s 22ms/step - loss: 1.2518 - accuracy: 0.5523 - val_loss: 1.3902 - val_accuracy: 0.5089\n",
      "Epoch 15/100\n",
      "196/196 [==============================] - 4s 21ms/step - loss: 1.2333 - accuracy: 0.5589 - val_loss: 1.4070 - val_accuracy: 0.5078\n",
      "Epoch 16/100\n",
      "196/196 [==============================] - 4s 22ms/step - loss: 1.2247 - accuracy: 0.5624 - val_loss: 1.3804 - val_accuracy: 0.5165\n",
      "Epoch 17/100\n",
      "196/196 [==============================] - 4s 22ms/step - loss: 1.1781 - accuracy: 0.5794 - val_loss: 1.3676 - val_accuracy: 0.5211\n",
      "Epoch 18/100\n",
      "196/196 [==============================] - 4s 21ms/step - loss: 1.1714 - accuracy: 0.5826 - val_loss: 1.3891 - val_accuracy: 0.5103\n",
      "Epoch 19/100\n",
      "196/196 [==============================] - 4s 20ms/step - loss: 1.1445 - accuracy: 0.5918 - val_loss: 1.3531 - val_accuracy: 0.5270\n",
      "Epoch 20/100\n",
      "196/196 [==============================] - 4s 21ms/step - loss: 1.1235 - accuracy: 0.5973 - val_loss: 1.3812 - val_accuracy: 0.5196\n",
      "Epoch 21/100\n",
      "196/196 [==============================] - 4s 21ms/step - loss: 1.1104 - accuracy: 0.6063 - val_loss: 1.3987 - val_accuracy: 0.5104\n",
      "Epoch 22/100\n",
      "196/196 [==============================] - 4s 19ms/step - loss: 1.0987 - accuracy: 0.6079 - val_loss: 1.3866 - val_accuracy: 0.5238\n",
      "Epoch 23/100\n",
      "196/196 [==============================] - 4s 22ms/step - loss: 1.0790 - accuracy: 0.6151 - val_loss: 1.3516 - val_accuracy: 0.5319\n",
      "Epoch 24/100\n",
      "196/196 [==============================] - 5s 24ms/step - loss: 1.0583 - accuracy: 0.6216 - val_loss: 1.3592 - val_accuracy: 0.5363\n",
      "Epoch 25/100\n",
      "196/196 [==============================] - 5s 25ms/step - loss: 1.0401 - accuracy: 0.6286 - val_loss: 1.4260 - val_accuracy: 0.5070\n",
      "Epoch 26/100\n",
      "196/196 [==============================] - 4s 22ms/step - loss: 1.0234 - accuracy: 0.6336 - val_loss: 1.4558 - val_accuracy: 0.5136\n",
      "Epoch 27/100\n",
      "196/196 [==============================] - 4s 20ms/step - loss: 1.0042 - accuracy: 0.6392 - val_loss: 1.3908 - val_accuracy: 0.5255\n",
      "Epoch 28/100\n",
      "196/196 [==============================] - 4s 20ms/step - loss: 0.9809 - accuracy: 0.6471 - val_loss: 1.4139 - val_accuracy: 0.5274\n",
      "Epoch 29/100\n",
      "196/196 [==============================] - 4s 21ms/step - loss: 0.9644 - accuracy: 0.6532 - val_loss: 1.3956 - val_accuracy: 0.5275\n",
      "Epoch 30/100\n",
      "196/196 [==============================] - 4s 20ms/step - loss: 0.9415 - accuracy: 0.6618 - val_loss: 1.4344 - val_accuracy: 0.5245\n",
      "Epoch 31/100\n",
      "196/196 [==============================] - 4s 20ms/step - loss: 0.9389 - accuracy: 0.6649 - val_loss: 1.4832 - val_accuracy: 0.5110\n",
      "Epoch 32/100\n",
      "196/196 [==============================] - 4s 20ms/step - loss: 0.9141 - accuracy: 0.6725 - val_loss: 1.4249 - val_accuracy: 0.5305\n",
      "Epoch 33/100\n",
      "196/196 [==============================] - 4s 21ms/step - loss: 0.8932 - accuracy: 0.6790 - val_loss: 1.4378 - val_accuracy: 0.5314\n",
      "Epoch 34/100\n",
      "196/196 [==============================] - 4s 21ms/step - loss: 0.8819 - accuracy: 0.6845 - val_loss: 1.4934 - val_accuracy: 0.5224\n",
      "Epoch 35/100\n",
      "196/196 [==============================] - 4s 21ms/step - loss: 0.8569 - accuracy: 0.6915 - val_loss: 1.4896 - val_accuracy: 0.5176\n",
      "Epoch 36/100\n",
      "196/196 [==============================] - 4s 20ms/step - loss: 0.8497 - accuracy: 0.6935 - val_loss: 1.5453 - val_accuracy: 0.5136\n",
      "Epoch 37/100\n",
      "196/196 [==============================] - 4s 20ms/step - loss: 0.8298 - accuracy: 0.7029 - val_loss: 1.5302 - val_accuracy: 0.5201\n",
      "Epoch 38/100\n",
      "196/196 [==============================] - 4s 20ms/step - loss: 0.8052 - accuracy: 0.7114 - val_loss: 1.5511 - val_accuracy: 0.5098\n",
      "Epoch 39/100\n",
      "196/196 [==============================] - 4s 21ms/step - loss: 0.7959 - accuracy: 0.7141 - val_loss: 1.5548 - val_accuracy: 0.5232\n",
      "Epoch 40/100\n",
      "196/196 [==============================] - 4s 20ms/step - loss: 0.7778 - accuracy: 0.7206 - val_loss: 1.5583 - val_accuracy: 0.5245\n",
      "Epoch 41/100\n",
      "196/196 [==============================] - 4s 21ms/step - loss: 0.7646 - accuracy: 0.7257 - val_loss: 1.5664 - val_accuracy: 0.5225\n",
      "Epoch 42/100\n",
      "196/196 [==============================] - 4s 20ms/step - loss: 0.7603 - accuracy: 0.7274 - val_loss: 1.6521 - val_accuracy: 0.5020\n",
      "Epoch 43/100\n",
      "196/196 [==============================] - 4s 23ms/step - loss: 0.7242 - accuracy: 0.7418 - val_loss: 1.6241 - val_accuracy: 0.5237\n",
      "Epoch 44/100\n",
      "196/196 [==============================] - 4s 23ms/step - loss: 0.7225 - accuracy: 0.7401 - val_loss: 1.6180 - val_accuracy: 0.5262\n",
      "Epoch 45/100\n",
      "196/196 [==============================] - 5s 24ms/step - loss: 0.7067 - accuracy: 0.7468 - val_loss: 1.7136 - val_accuracy: 0.5142\n",
      "Epoch 46/100\n",
      "196/196 [==============================] - 4s 21ms/step - loss: 0.7028 - accuracy: 0.7459 - val_loss: 1.6792 - val_accuracy: 0.5141\n",
      "Epoch 47/100\n",
      "196/196 [==============================] - 4s 21ms/step - loss: 0.6777 - accuracy: 0.7566 - val_loss: 1.7541 - val_accuracy: 0.5175\n",
      "Epoch 48/100\n",
      "196/196 [==============================] - 4s 21ms/step - loss: 0.6914 - accuracy: 0.7495 - val_loss: 1.7027 - val_accuracy: 0.5132\n",
      "Epoch 49/100\n",
      "196/196 [==============================] - 4s 21ms/step - loss: 0.6551 - accuracy: 0.7648 - val_loss: 1.7237 - val_accuracy: 0.5178\n",
      "Epoch 50/100\n",
      "196/196 [==============================] - 7s 36ms/step - loss: 0.6535 - accuracy: 0.7662 - val_loss: 1.8544 - val_accuracy: 0.5072\n",
      "Epoch 51/100\n",
      "196/196 [==============================] - 4s 22ms/step - loss: 0.6329 - accuracy: 0.7730 - val_loss: 1.7852 - val_accuracy: 0.5195\n",
      "Epoch 52/100\n",
      "196/196 [==============================] - 4s 21ms/step - loss: 0.6200 - accuracy: 0.7777 - val_loss: 1.8913 - val_accuracy: 0.5076\n",
      "Epoch 53/100\n",
      "196/196 [==============================] - 4s 21ms/step - loss: 0.6115 - accuracy: 0.7799 - val_loss: 1.8613 - val_accuracy: 0.5155\n",
      "Epoch 54/100\n",
      "196/196 [==============================] - 4s 21ms/step - loss: 0.6018 - accuracy: 0.7839 - val_loss: 1.8826 - val_accuracy: 0.5122\n",
      "Epoch 55/100\n",
      "196/196 [==============================] - 4s 20ms/step - loss: 0.5870 - accuracy: 0.7884 - val_loss: 1.9455 - val_accuracy: 0.4974\n",
      "Epoch 56/100\n",
      "196/196 [==============================] - 4s 20ms/step - loss: 0.5795 - accuracy: 0.7934 - val_loss: 1.9994 - val_accuracy: 0.5082\n",
      "Epoch 57/100\n",
      "196/196 [==============================] - 5s 23ms/step - loss: 0.5736 - accuracy: 0.7945 - val_loss: 2.0009 - val_accuracy: 0.5127\n",
      "Epoch 58/100\n",
      "196/196 [==============================] - 5s 23ms/step - loss: 0.5552 - accuracy: 0.8004 - val_loss: 1.9871 - val_accuracy: 0.5092\n",
      "Epoch 59/100\n",
      "196/196 [==============================] - 5s 24ms/step - loss: 0.5471 - accuracy: 0.8028 - val_loss: 1.9858 - val_accuracy: 0.5061\n",
      "Epoch 60/100\n",
      "196/196 [==============================] - 4s 22ms/step - loss: 0.5403 - accuracy: 0.8046 - val_loss: 2.0822 - val_accuracy: 0.5015\n",
      "Epoch 61/100\n",
      "196/196 [==============================] - 4s 22ms/step - loss: 0.5219 - accuracy: 0.8133 - val_loss: 2.1033 - val_accuracy: 0.5111\n",
      "Epoch 62/100\n",
      "196/196 [==============================] - 4s 22ms/step - loss: 0.5170 - accuracy: 0.8157 - val_loss: 2.1344 - val_accuracy: 0.4991\n",
      "Epoch 63/100\n",
      "196/196 [==============================] - 4s 22ms/step - loss: 0.5149 - accuracy: 0.8148 - val_loss: 2.1340 - val_accuracy: 0.5105\n",
      "Epoch 64/100\n",
      "196/196 [==============================] - 6s 30ms/step - loss: 0.5005 - accuracy: 0.8195 - val_loss: 2.1371 - val_accuracy: 0.5101\n",
      "Epoch 65/100\n",
      "196/196 [==============================] - 4s 21ms/step - loss: 0.4953 - accuracy: 0.8230 - val_loss: 2.1876 - val_accuracy: 0.5062\n",
      "Epoch 66/100\n",
      "196/196 [==============================] - 4s 22ms/step - loss: 0.4799 - accuracy: 0.8269 - val_loss: 2.2216 - val_accuracy: 0.5093\n",
      "Epoch 67/100\n",
      "196/196 [==============================] - 5s 26ms/step - loss: 0.4868 - accuracy: 0.8229 - val_loss: 2.2382 - val_accuracy: 0.5059\n",
      "Epoch 68/100\n",
      "196/196 [==============================] - 7s 37ms/step - loss: 0.4650 - accuracy: 0.8332 - val_loss: 2.2618 - val_accuracy: 0.5050\n",
      "Epoch 69/100\n",
      "196/196 [==============================] - 7s 36ms/step - loss: 0.4800 - accuracy: 0.8265 - val_loss: 2.2813 - val_accuracy: 0.5097\n",
      "Epoch 70/100\n",
      "196/196 [==============================] - 4s 22ms/step - loss: 0.4435 - accuracy: 0.8414 - val_loss: 2.2503 - val_accuracy: 0.5064\n",
      "Epoch 71/100\n",
      "196/196 [==============================] - 4s 22ms/step - loss: 0.4395 - accuracy: 0.8423 - val_loss: 2.3239 - val_accuracy: 0.5034\n",
      "Epoch 72/100\n",
      "196/196 [==============================] - 6s 32ms/step - loss: 0.4265 - accuracy: 0.8463 - val_loss: 2.4297 - val_accuracy: 0.5095\n",
      "Epoch 73/100\n",
      "196/196 [==============================] - 5s 25ms/step - loss: 0.4319 - accuracy: 0.8444 - val_loss: 2.3472 - val_accuracy: 0.5063\n",
      "Epoch 74/100\n",
      "196/196 [==============================] - 5s 25ms/step - loss: 0.4183 - accuracy: 0.8500 - val_loss: 2.5487 - val_accuracy: 0.4998\n",
      "Epoch 75/100\n",
      "196/196 [==============================] - 5s 23ms/step - loss: 0.4272 - accuracy: 0.8467 - val_loss: 2.4603 - val_accuracy: 0.5088\n",
      "Epoch 76/100\n",
      "196/196 [==============================] - 4s 21ms/step - loss: 0.4092 - accuracy: 0.8529 - val_loss: 2.6081 - val_accuracy: 0.5033\n",
      "Epoch 77/100\n",
      "196/196 [==============================] - 4s 22ms/step - loss: 0.4049 - accuracy: 0.8563 - val_loss: 2.5340 - val_accuracy: 0.5085\n",
      "Epoch 78/100\n",
      "196/196 [==============================] - 4s 21ms/step - loss: 0.3832 - accuracy: 0.8620 - val_loss: 2.6811 - val_accuracy: 0.4973\n",
      "Epoch 79/100\n",
      "196/196 [==============================] - 4s 21ms/step - loss: 0.3969 - accuracy: 0.8553 - val_loss: 2.6887 - val_accuracy: 0.4940\n",
      "Epoch 80/100\n",
      "196/196 [==============================] - 4s 21ms/step - loss: 0.3830 - accuracy: 0.8612 - val_loss: 2.6637 - val_accuracy: 0.5061\n",
      "Epoch 81/100\n",
      "196/196 [==============================] - 5s 24ms/step - loss: 0.3689 - accuracy: 0.8676 - val_loss: 2.7043 - val_accuracy: 0.5018\n",
      "Epoch 82/100\n",
      "196/196 [==============================] - 4s 20ms/step - loss: 0.3628 - accuracy: 0.8705 - val_loss: 2.7725 - val_accuracy: 0.5076\n",
      "Epoch 83/100\n",
      "196/196 [==============================] - 4s 21ms/step - loss: 0.3724 - accuracy: 0.8661 - val_loss: 2.7211 - val_accuracy: 0.5098\n",
      "Epoch 84/100\n",
      "196/196 [==============================] - 4s 21ms/step - loss: 0.3539 - accuracy: 0.8729 - val_loss: 2.8166 - val_accuracy: 0.4959\n",
      "Epoch 85/100\n",
      "196/196 [==============================] - 4s 21ms/step - loss: 0.3656 - accuracy: 0.8693 - val_loss: 2.8779 - val_accuracy: 0.4970\n",
      "Epoch 86/100\n",
      "196/196 [==============================] - 5s 26ms/step - loss: 0.3489 - accuracy: 0.8745 - val_loss: 2.9216 - val_accuracy: 0.5013\n",
      "Epoch 87/100\n",
      "196/196 [==============================] - 5s 24ms/step - loss: 0.3428 - accuracy: 0.8761 - val_loss: 2.9798 - val_accuracy: 0.4980\n",
      "Epoch 88/100\n",
      "196/196 [==============================] - 4s 22ms/step - loss: 0.3231 - accuracy: 0.8844 - val_loss: 2.9431 - val_accuracy: 0.5036\n",
      "Epoch 89/100\n",
      "196/196 [==============================] - 5s 23ms/step - loss: 0.3393 - accuracy: 0.8785 - val_loss: 2.9806 - val_accuracy: 0.5009\n",
      "Epoch 90/100\n",
      "196/196 [==============================] - 5s 27ms/step - loss: 0.3753 - accuracy: 0.8633 - val_loss: 2.9644 - val_accuracy: 0.4956\n",
      "Epoch 91/100\n",
      "196/196 [==============================] - 5s 23ms/step - loss: 0.3299 - accuracy: 0.8815 - val_loss: 3.0352 - val_accuracy: 0.4968\n",
      "Epoch 92/100\n",
      "196/196 [==============================] - 5s 26ms/step - loss: 0.3253 - accuracy: 0.8824 - val_loss: 3.0318 - val_accuracy: 0.4978\n",
      "Epoch 93/100\n",
      "196/196 [==============================] - 5s 27ms/step - loss: 0.3141 - accuracy: 0.8873 - val_loss: 3.0567 - val_accuracy: 0.5078\n",
      "Epoch 94/100\n",
      "196/196 [==============================] - 5s 23ms/step - loss: 0.3141 - accuracy: 0.8887 - val_loss: 2.9836 - val_accuracy: 0.4988\n",
      "Epoch 95/100\n",
      "196/196 [==============================] - 5s 25ms/step - loss: 0.3223 - accuracy: 0.8829 - val_loss: 3.3521 - val_accuracy: 0.4938\n",
      "Epoch 96/100\n",
      "196/196 [==============================] - 5s 24ms/step - loss: 0.2945 - accuracy: 0.8934 - val_loss: 3.1179 - val_accuracy: 0.5025\n",
      "Epoch 97/100\n",
      "196/196 [==============================] - 5s 24ms/step - loss: 0.3147 - accuracy: 0.8855 - val_loss: 3.1314 - val_accuracy: 0.5004\n",
      "Epoch 98/100\n",
      "196/196 [==============================] - 5s 24ms/step - loss: 0.3094 - accuracy: 0.8894 - val_loss: 3.1928 - val_accuracy: 0.5070\n",
      "Epoch 99/100\n",
      "196/196 [==============================] - 4s 22ms/step - loss: 0.2921 - accuracy: 0.8957 - val_loss: 3.2328 - val_accuracy: 0.5074\n",
      "Epoch 100/100\n",
      "196/196 [==============================] - 7s 34ms/step - loss: 0.3165 - accuracy: 0.8872 - val_loss: 3.3143 - val_accuracy: 0.4935\n"
     ]
    },
    {
     "data": {
      "text/plain": [
       "<tensorflow.python.keras.callbacks.History at 0x131db61d0>"
      ]
     },
     "execution_count": 10,
     "metadata": {},
     "output_type": "execute_result"
    }
   ],
   "source": [
    "model.fit(x_train, y_train, \n",
    "          epochs=EPOCHS, \n",
    "          batch_size=BATCH_SIZE, \n",
    "          validation_data=(x_test, y_test), \n",
    "          shuffle=True)"
   ]
  },
  {
   "cell_type": "code",
   "execution_count": 1,
   "metadata": {},
   "outputs": [
    {
     "ename": "NameError",
     "evalue": "name 'model' is not defined",
     "output_type": "error",
     "traceback": [
      "\u001b[0;31m---------------------------------------------------------------------------\u001b[0m",
      "\u001b[0;31mNameError\u001b[0m                                 Traceback (most recent call last)",
      "\u001b[0;32m<ipython-input-1-440b80adb08b>\u001b[0m in \u001b[0;36m<module>\u001b[0;34m\u001b[0m\n\u001b[1;32m      2\u001b[0m \u001b[0;32mimport\u001b[0m \u001b[0mmatplotlib\u001b[0m\u001b[0;34m.\u001b[0m\u001b[0mpyplot\u001b[0m \u001b[0;32mas\u001b[0m \u001b[0mplt\u001b[0m\u001b[0;34m\u001b[0m\u001b[0m\n\u001b[1;32m      3\u001b[0m \u001b[0;34m\u001b[0m\u001b[0m\n\u001b[0;32m----> 4\u001b[0;31m \u001b[0mtrain_loss\u001b[0m \u001b[0;34m=\u001b[0m \u001b[0mmodel\u001b[0m\u001b[0;34m.\u001b[0m\u001b[0mhistory\u001b[0m\u001b[0;34m.\u001b[0m\u001b[0mhistory\u001b[0m\u001b[0;34m[\u001b[0m\u001b[0;34m\"loss\"\u001b[0m\u001b[0;34m]\u001b[0m\u001b[0;34m\u001b[0m\u001b[0m\n\u001b[0m\u001b[1;32m      5\u001b[0m \u001b[0mvalid_loss\u001b[0m \u001b[0;34m=\u001b[0m \u001b[0mmodel\u001b[0m\u001b[0;34m.\u001b[0m\u001b[0mhistory\u001b[0m\u001b[0;34m.\u001b[0m\u001b[0mhistory\u001b[0m\u001b[0;34m[\u001b[0m\u001b[0;34m\"val_loss\"\u001b[0m\u001b[0;34m]\u001b[0m\u001b[0;34m\u001b[0m\u001b[0m\n\u001b[1;32m      6\u001b[0m \u001b[0;34m\u001b[0m\u001b[0m\n",
      "\u001b[0;31mNameError\u001b[0m: name 'model' is not defined"
     ]
    }
   ],
   "source": [
    "# 訓練模型並檢視驗證集的結果\n",
    "import matplotlib.pyplot as plt\n",
    "\n",
    "train_loss = model.history.history[\"loss\"]\n",
    "valid_loss = model.history.history[\"val_loss\"]\n",
    "\n",
    "train_acc = model.history.history[\"accuracy\"]\n",
    "valid_acc = model.history.history[\"val_accuracy\"]\n",
    "\n",
    "plt.plot(range(len(train_loss)), train_loss, label=\"train loss\")\n",
    "plt.plot(range(len(valid_loss)), valid_loss, label=\"valid loss\")\n",
    "plt.legend()\n",
    "plt.title(\"Loss\")\n",
    "plt.show()\n",
    "\n",
    "plt.plot(range(len(train_acc)), train_acc, label=\"train accuracy\")\n",
    "plt.plot(range(len(valid_acc)), valid_acc, label=\"valid accuracy\")\n",
    "plt.legend()\n",
    "plt.title(\"Accuracy\")\n",
    "plt.show()"
   ]
  },
  {
   "cell_type": "markdown",
   "metadata": {},
   "source": [
    "## Work\n",
    "1. 請嘗試將 preproc_x 替換成以每筆資料的 min/max 進行標準化至 -1 ~ 1 間，再進行訓練\n",
    "2. 請嘗試將 mlp 疊更深 (e.g 5~10 層)，進行訓練後觀察 learning curve 的走勢\n",
    "3. (optional) 請改用 GPU 進行訓練 (如果你有 GPU 的話)，比較使用 CPU 與 GPU 的訓練速度"
   ]
  }
 ],
 "metadata": {
  "kernelspec": {
   "display_name": "Python 3",
   "language": "python",
   "name": "python3"
  },
  "language_info": {
   "codemirror_mode": {
    "name": "ipython",
    "version": 3
   },
   "file_extension": ".py",
   "mimetype": "text/x-python",
   "name": "python",
   "nbconvert_exporter": "python",
   "pygments_lexer": "ipython3",
   "version": "3.6.0"
  }
 },
 "nbformat": 4,
 "nbformat_minor": 2
}
