{
 "cells": [
  {
   "cell_type": "markdown",
   "metadata": {},
   "source": [
    "## 練習時間"
   ]
  },
  {
   "cell_type": "markdown",
   "metadata": {},
   "source": [
    "請觀看李宏毅教授以神奇寶貝進化 CP 值預測的範例，解說何謂機器學習與過擬合。並回答以下問題"
   ]
  },
  {
   "cell_type": "markdown",
   "metadata": {},
   "source": [
    "[youtube](https://www.youtube.com/watch?v=fegAeph9UaA)"
   ]
  },
  {
   "cell_type": "markdown",
   "metadata": {},
   "source": [
    "### 1. 模型的泛化能力 (generalization) 是指什麼？ \n",
    "### 2. 分類問題與回歸問題分別可用的目標函數有哪些？"
   ]
  },
  {
   "cell_type": "markdown",
   "metadata": {},
   "source": [
    "#### 1. 模型的泛化能力 (generalization) 是指什麼？\n",
    "泛化（generalization） 則是說明了模型對看不見的數據的行為。如果模型過度擬和(Overfiting)數據，就容易造成泛化現象，\n",
    "有點類似給一個學生題庫，讓學生一直練習這些題庫，考試出這些提庫的題目，學生就會考得很好，但釋出一些不再題庫上的題目，學生就答的不好，\n",
    "這就是泛化(generalization)不好。\n",
    "#### 2. 分類問題與回歸問題分別可用的目標函數有哪些？\n",
    "回歸常用的損失函數: \n",
    "    均方誤差(Mean square error，MSE)\n",
    "    平均絕對值誤差(Mean absolute error，MAE)\n",
    "    Root MSE(RMSE)\n",
    "    \n",
    "分類問題常用的損失函數: \n",
    "    交叉熵(cross-entropy)"
   ]
  }
 ],
 "metadata": {
  "kernelspec": {
   "display_name": "Python 3",
   "language": "python",
   "name": "python3"
  },
  "language_info": {
   "codemirror_mode": {
    "name": "ipython",
    "version": 3
   },
   "file_extension": ".py",
   "mimetype": "text/x-python",
   "name": "python",
   "nbconvert_exporter": "python",
   "pygments_lexer": "ipython3",
   "version": "3.6.0"
  }
 },
 "nbformat": 4,
 "nbformat_minor": 2
}
