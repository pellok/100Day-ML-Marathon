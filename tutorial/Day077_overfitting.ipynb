{
 "cells": [
  {
   "cell_type": "markdown",
   "metadata": {},
   "source": [
    "## 範例重點\n",
    "* 學會從 Keras 內建函式取得資料\n",
    "* 能夠建立簡易的深度學習模型\n",
    "* 觀察並了解 Overfit 現象"
   ]
  },
  {
   "cell_type": "code",
   "execution_count": 1,
   "metadata": {},
   "outputs": [
    {
     "name": "stderr",
     "output_type": "stream",
     "text": [
      "Using TensorFlow backend.\n"
     ]
    }
   ],
   "source": [
    "import os\n",
    "import keras\n",
    "\n",
    "# 本範例不需使用 GPU, 將 GPU 設定為 \"無\"\n",
    "os.environ[\"CUDA_VISIBLE_DEVICES\"] = \"\""
   ]
  },
  {
   "cell_type": "code",
   "execution_count": 4,
   "metadata": {},
   "outputs": [],
   "source": [
    "# 從 Keras 的內建功能中，取得 train 與 test 資料集\n",
    "train, test = keras.datasets.cifar10.load_data()"
   ]
  },
  {
   "cell_type": "code",
   "execution_count": 5,
   "metadata": {},
   "outputs": [],
   "source": [
    "# 將 X 與 Y 獨立放進變數\n",
    "x_train, y_train = train\n",
    "x_test, y_test = test\n",
    "# 資料前處理 - 標準化\n",
    "x_train = x_train / 255.\n",
    "x_test = x_test / 255.\n",
    "\n",
    "# 將資料從圖形 (RGB) 轉為向量 (Single Vector)\n",
    "x_train = x_train.reshape((len(x_train), -1))\n",
    "x_test = x_test.reshape((len(x_test), -1))\n",
    "\n",
    "# 將目標轉為 one-hot encoding\n",
    "y_train = keras.utils.to_categorical(y_train, num_classes=10)\n",
    "y_test = keras.utils.to_categorical(y_test, num_classes=10)"
   ]
  },
  {
   "cell_type": "code",
   "execution_count": 6,
   "metadata": {},
   "outputs": [],
   "source": [
    "# 建立一個有三層隱藏層之神經網路\n",
    "def build_mlp():\n",
    "    input_layer = keras.layers.Input([x_train.shape[-1]])\n",
    "    x = keras.layers.Dense(units=512, activation=\"relu\")(input_layer)\n",
    "    x = keras.layers.Dense(units=256, activation=\"relu\")(x)\n",
    "    x = keras.layers.Dense(units=128, activation=\"relu\")(x)\n",
    "    out = keras.layers.Dense(units=10, activation=\"softmax\")(x)\n",
    "    \n",
    "    model = keras.models.Model(inputs=[input_layer], outputs=[out])\n",
    "    return model"
   ]
  },
  {
   "cell_type": "code",
   "execution_count": 7,
   "metadata": {},
   "outputs": [
    {
     "name": "stdout",
     "output_type": "stream",
     "text": [
      "Model: \"model\"\n",
      "_________________________________________________________________\n",
      "Layer (type)                 Output Shape              Param #   \n",
      "=================================================================\n",
      "input_1 (InputLayer)         [(None, 3072)]            0         \n",
      "_________________________________________________________________\n",
      "dense (Dense)                (None, 512)               1573376   \n",
      "_________________________________________________________________\n",
      "dense_1 (Dense)              (None, 256)               131328    \n",
      "_________________________________________________________________\n",
      "dense_2 (Dense)              (None, 128)               32896     \n",
      "_________________________________________________________________\n",
      "dense_3 (Dense)              (None, 10)                1290      \n",
      "=================================================================\n",
      "Total params: 1,738,890\n",
      "Trainable params: 1,738,890\n",
      "Non-trainable params: 0\n",
      "_________________________________________________________________\n"
     ]
    }
   ],
   "source": [
    "model = build_mlp()\n",
    "# 用 Keras 內建方法檢視模型各層參數量\n",
    "model.summary()\n",
    "\n",
    "optimizer = keras.optimizers.Adam(lr=0.001)\n",
    "model.compile(loss=\"categorical_crossentropy\", metrics=[\"accuracy\"], optimizer=optimizer)"
   ]
  },
  {
   "cell_type": "code",
   "execution_count": 8,
   "metadata": {},
   "outputs": [
    {
     "name": "stdout",
     "output_type": "stream",
     "text": [
      "Epoch 1/100\n",
      "196/196 [==============================] - 4s 21ms/step - loss: 1.9283 - accuracy: 0.3070 - val_loss: 1.7866 - val_accuracy: 0.3612\n",
      "Epoch 2/100\n",
      "196/196 [==============================] - 4s 22ms/step - loss: 1.7004 - accuracy: 0.3892 - val_loss: 1.6486 - val_accuracy: 0.4085\n",
      "Epoch 3/100\n",
      "196/196 [==============================] - 5s 26ms/step - loss: 1.6069 - accuracy: 0.4264 - val_loss: 1.6234 - val_accuracy: 0.4118\n",
      "Epoch 4/100\n",
      "196/196 [==============================] - 5s 27ms/step - loss: 1.5465 - accuracy: 0.4483 - val_loss: 1.5616 - val_accuracy: 0.4483\n",
      "Epoch 5/100\n",
      "196/196 [==============================] - 5s 26ms/step - loss: 1.5036 - accuracy: 0.4624 - val_loss: 1.5336 - val_accuracy: 0.4491\n",
      "Epoch 6/100\n",
      "196/196 [==============================] - 4s 22ms/step - loss: 1.4715 - accuracy: 0.4756 - val_loss: 1.5708 - val_accuracy: 0.4436\n",
      "Epoch 7/100\n",
      "196/196 [==============================] - 5s 23ms/step - loss: 1.4353 - accuracy: 0.4885 - val_loss: 1.4592 - val_accuracy: 0.4793\n",
      "Epoch 8/100\n",
      "196/196 [==============================] - 4s 22ms/step - loss: 1.4043 - accuracy: 0.4981 - val_loss: 1.4678 - val_accuracy: 0.4794\n",
      "Epoch 9/100\n",
      "196/196 [==============================] - 4s 22ms/step - loss: 1.3787 - accuracy: 0.5104 - val_loss: 1.4503 - val_accuracy: 0.4839\n",
      "Epoch 10/100\n",
      "196/196 [==============================] - 4s 22ms/step - loss: 1.3511 - accuracy: 0.5169 - val_loss: 1.4168 - val_accuracy: 0.4948\n",
      "Epoch 11/100\n",
      "196/196 [==============================] - 4s 20ms/step - loss: 1.3319 - accuracy: 0.5231 - val_loss: 1.4093 - val_accuracy: 0.5000\n",
      "Epoch 12/100\n",
      "196/196 [==============================] - 4s 20ms/step - loss: 1.2982 - accuracy: 0.5365 - val_loss: 1.4112 - val_accuracy: 0.5035\n",
      "Epoch 13/100\n",
      "196/196 [==============================] - 4s 20ms/step - loss: 1.2790 - accuracy: 0.5425 - val_loss: 1.3825 - val_accuracy: 0.5133\n",
      "Epoch 14/100\n",
      "196/196 [==============================] - 4s 21ms/step - loss: 1.2669 - accuracy: 0.5473 - val_loss: 1.3850 - val_accuracy: 0.5114\n",
      "Epoch 15/100\n",
      "196/196 [==============================] - 4s 21ms/step - loss: 1.2390 - accuracy: 0.5584 - val_loss: 1.3659 - val_accuracy: 0.5187\n",
      "Epoch 16/100\n",
      "196/196 [==============================] - 4s 23ms/step - loss: 1.2204 - accuracy: 0.5634 - val_loss: 1.3490 - val_accuracy: 0.5244\n",
      "Epoch 17/100\n",
      "196/196 [==============================] - 4s 20ms/step - loss: 1.1984 - accuracy: 0.5730 - val_loss: 1.3695 - val_accuracy: 0.5139\n",
      "Epoch 18/100\n",
      "196/196 [==============================] - 4s 21ms/step - loss: 1.1673 - accuracy: 0.5854 - val_loss: 1.3751 - val_accuracy: 0.5176\n",
      "Epoch 19/100\n",
      "196/196 [==============================] - 4s 21ms/step - loss: 1.1508 - accuracy: 0.5894 - val_loss: 1.4432 - val_accuracy: 0.5021\n",
      "Epoch 20/100\n",
      "196/196 [==============================] - 5s 24ms/step - loss: 1.1424 - accuracy: 0.5936 - val_loss: 1.3690 - val_accuracy: 0.5260\n",
      "Epoch 21/100\n",
      "196/196 [==============================] - 5s 23ms/step - loss: 1.1123 - accuracy: 0.6013 - val_loss: 1.3647 - val_accuracy: 0.5267\n",
      "Epoch 22/100\n",
      "196/196 [==============================] - 5s 24ms/step - loss: 1.1006 - accuracy: 0.6066 - val_loss: 1.3887 - val_accuracy: 0.5150\n",
      "Epoch 23/100\n",
      "196/196 [==============================] - 5s 25ms/step - loss: 1.0839 - accuracy: 0.6125 - val_loss: 1.3602 - val_accuracy: 0.5286\n",
      "Epoch 24/100\n",
      "196/196 [==============================] - 5s 26ms/step - loss: 1.0429 - accuracy: 0.6282 - val_loss: 1.4287 - val_accuracy: 0.5164\n",
      "Epoch 25/100\n",
      "196/196 [==============================] - 5s 26ms/step - loss: 1.0450 - accuracy: 0.6258 - val_loss: 1.3990 - val_accuracy: 0.5331\n",
      "Epoch 26/100\n",
      "196/196 [==============================] - 4s 23ms/step - loss: 1.0220 - accuracy: 0.6337 - val_loss: 1.3986 - val_accuracy: 0.5301\n",
      "Epoch 27/100\n",
      "196/196 [==============================] - 5s 25ms/step - loss: 1.0085 - accuracy: 0.6384 - val_loss: 1.4064 - val_accuracy: 0.5244\n",
      "Epoch 28/100\n",
      "196/196 [==============================] - 5s 27ms/step - loss: 0.9969 - accuracy: 0.6431 - val_loss: 1.4463 - val_accuracy: 0.5188\n",
      "Epoch 29/100\n",
      "196/196 [==============================] - 5s 25ms/step - loss: 0.9689 - accuracy: 0.6532 - val_loss: 1.3982 - val_accuracy: 0.5363\n",
      "Epoch 30/100\n",
      "196/196 [==============================] - 5s 25ms/step - loss: 0.9419 - accuracy: 0.6628 - val_loss: 1.4101 - val_accuracy: 0.5367\n",
      "Epoch 31/100\n",
      "196/196 [==============================] - 6s 28ms/step - loss: 0.9372 - accuracy: 0.6656 - val_loss: 1.4253 - val_accuracy: 0.5331\n",
      "Epoch 32/100\n",
      "196/196 [==============================] - 5s 28ms/step - loss: 0.9168 - accuracy: 0.6722 - val_loss: 1.4813 - val_accuracy: 0.5151\n",
      "Epoch 33/100\n",
      "196/196 [==============================] - 5s 28ms/step - loss: 0.9092 - accuracy: 0.6737 - val_loss: 1.4410 - val_accuracy: 0.5216\n",
      "Epoch 34/100\n",
      "196/196 [==============================] - 5s 25ms/step - loss: 0.8868 - accuracy: 0.6842 - val_loss: 1.4389 - val_accuracy: 0.5327\n",
      "Epoch 35/100\n",
      "196/196 [==============================] - 5s 25ms/step - loss: 0.8710 - accuracy: 0.6862 - val_loss: 1.4612 - val_accuracy: 0.5294\n",
      "Epoch 36/100\n",
      "196/196 [==============================] - 5s 27ms/step - loss: 0.8569 - accuracy: 0.6930 - val_loss: 1.5125 - val_accuracy: 0.5213\n",
      "Epoch 37/100\n",
      "196/196 [==============================] - 5s 27ms/step - loss: 0.8424 - accuracy: 0.6989 - val_loss: 1.5145 - val_accuracy: 0.5222\n",
      "Epoch 38/100\n",
      "196/196 [==============================] - 7s 34ms/step - loss: 0.8138 - accuracy: 0.7095 - val_loss: 1.5196 - val_accuracy: 0.5221\n",
      "Epoch 39/100\n",
      "196/196 [==============================] - 6s 28ms/step - loss: 0.8185 - accuracy: 0.7063 - val_loss: 1.5296 - val_accuracy: 0.5270\n",
      "Epoch 40/100\n",
      "196/196 [==============================] - 7s 37ms/step - loss: 0.7971 - accuracy: 0.7147 - val_loss: 1.6474 - val_accuracy: 0.5105\n",
      "Epoch 41/100\n",
      "196/196 [==============================] - 5s 26ms/step - loss: 0.7832 - accuracy: 0.7181 - val_loss: 1.5600 - val_accuracy: 0.5195\n",
      "Epoch 42/100\n",
      "196/196 [==============================] - 5s 24ms/step - loss: 0.7752 - accuracy: 0.7228 - val_loss: 1.6087 - val_accuracy: 0.5204\n",
      "Epoch 43/100\n",
      "196/196 [==============================] - 5s 26ms/step - loss: 0.7463 - accuracy: 0.7348 - val_loss: 1.5837 - val_accuracy: 0.5242\n",
      "Epoch 44/100\n",
      "196/196 [==============================] - 6s 33ms/step - loss: 0.7367 - accuracy: 0.7361 - val_loss: 1.5888 - val_accuracy: 0.5303\n",
      "Epoch 45/100\n",
      "196/196 [==============================] - 6s 30ms/step - loss: 0.7249 - accuracy: 0.7412 - val_loss: 1.6488 - val_accuracy: 0.5172\n",
      "Epoch 46/100\n",
      "196/196 [==============================] - 6s 32ms/step - loss: 0.7071 - accuracy: 0.7464 - val_loss: 1.6693 - val_accuracy: 0.5143\n",
      "Epoch 47/100\n",
      "196/196 [==============================] - 9s 44ms/step - loss: 0.6938 - accuracy: 0.7513 - val_loss: 1.6735 - val_accuracy: 0.5187\n",
      "Epoch 48/100\n",
      "196/196 [==============================] - 5s 27ms/step - loss: 0.6862 - accuracy: 0.7550 - val_loss: 1.6737 - val_accuracy: 0.5245\n",
      "Epoch 49/100\n",
      "196/196 [==============================] - 5s 25ms/step - loss: 0.6731 - accuracy: 0.7601 - val_loss: 1.7404 - val_accuracy: 0.5184\n",
      "Epoch 50/100\n",
      "196/196 [==============================] - 5s 24ms/step - loss: 0.6659 - accuracy: 0.7597 - val_loss: 1.7285 - val_accuracy: 0.5200\n",
      "Epoch 51/100\n",
      "196/196 [==============================] - 5s 24ms/step - loss: 0.6348 - accuracy: 0.7718 - val_loss: 1.7720 - val_accuracy: 0.5184\n",
      "Epoch 52/100\n",
      "196/196 [==============================] - 5s 24ms/step - loss: 0.6429 - accuracy: 0.7693 - val_loss: 1.7348 - val_accuracy: 0.5203\n",
      "Epoch 53/100\n",
      "196/196 [==============================] - 5s 26ms/step - loss: 0.6200 - accuracy: 0.7784 - val_loss: 1.8069 - val_accuracy: 0.5187\n",
      "Epoch 54/100\n",
      "196/196 [==============================] - 4s 23ms/step - loss: 0.6128 - accuracy: 0.7798 - val_loss: 1.7968 - val_accuracy: 0.5160\n",
      "Epoch 55/100\n",
      "196/196 [==============================] - 5s 24ms/step - loss: 0.5956 - accuracy: 0.7863 - val_loss: 1.8326 - val_accuracy: 0.5180\n",
      "Epoch 56/100\n",
      "196/196 [==============================] - 5s 27ms/step - loss: 0.5853 - accuracy: 0.7911 - val_loss: 1.9135 - val_accuracy: 0.5074\n",
      "Epoch 57/100\n"
     ]
    },
    {
     "name": "stdout",
     "output_type": "stream",
     "text": [
      "196/196 [==============================] - 5s 24ms/step - loss: 0.5880 - accuracy: 0.7885 - val_loss: 1.9072 - val_accuracy: 0.5093\n",
      "Epoch 58/100\n",
      "196/196 [==============================] - 5s 24ms/step - loss: 0.5672 - accuracy: 0.7972 - val_loss: 1.9409 - val_accuracy: 0.5019\n",
      "Epoch 59/100\n",
      "196/196 [==============================] - 5s 23ms/step - loss: 0.5669 - accuracy: 0.7948 - val_loss: 2.0443 - val_accuracy: 0.5092\n",
      "Epoch 60/100\n",
      "196/196 [==============================] - 5s 23ms/step - loss: 0.5485 - accuracy: 0.8026 - val_loss: 1.9837 - val_accuracy: 0.5111\n",
      "Epoch 61/100\n",
      "196/196 [==============================] - 5s 26ms/step - loss: 0.5371 - accuracy: 0.8076 - val_loss: 2.0133 - val_accuracy: 0.5083\n",
      "Epoch 62/100\n",
      "196/196 [==============================] - 5s 26ms/step - loss: 0.5247 - accuracy: 0.8093 - val_loss: 2.0471 - val_accuracy: 0.5082\n",
      "Epoch 63/100\n",
      "196/196 [==============================] - 5s 24ms/step - loss: 0.5017 - accuracy: 0.8209 - val_loss: 2.1283 - val_accuracy: 0.5083\n",
      "Epoch 64/100\n",
      "196/196 [==============================] - 5s 26ms/step - loss: 0.4969 - accuracy: 0.8210 - val_loss: 2.1399 - val_accuracy: 0.5040\n",
      "Epoch 65/100\n",
      "196/196 [==============================] - 5s 26ms/step - loss: 0.5095 - accuracy: 0.8161 - val_loss: 2.1689 - val_accuracy: 0.5057\n",
      "Epoch 66/100\n",
      "196/196 [==============================] - 5s 25ms/step - loss: 0.4890 - accuracy: 0.8252 - val_loss: 2.1450 - val_accuracy: 0.5085\n",
      "Epoch 67/100\n",
      "196/196 [==============================] - 5s 26ms/step - loss: 0.4892 - accuracy: 0.8232 - val_loss: 2.2218 - val_accuracy: 0.5130\n",
      "Epoch 68/100\n",
      "196/196 [==============================] - 6s 29ms/step - loss: 0.4547 - accuracy: 0.8378 - val_loss: 2.2856 - val_accuracy: 0.5034\n",
      "Epoch 69/100\n",
      "196/196 [==============================] - 5s 23ms/step - loss: 0.4684 - accuracy: 0.8321 - val_loss: 2.2649 - val_accuracy: 0.5111\n",
      "Epoch 70/100\n",
      "196/196 [==============================] - 5s 27ms/step - loss: 0.4498 - accuracy: 0.8392 - val_loss: 2.3274 - val_accuracy: 0.5028\n",
      "Epoch 71/100\n",
      "196/196 [==============================] - 5s 24ms/step - loss: 0.4602 - accuracy: 0.8347 - val_loss: 2.3093 - val_accuracy: 0.5060\n",
      "Epoch 72/100\n",
      "196/196 [==============================] - 6s 28ms/step - loss: 0.4345 - accuracy: 0.8441 - val_loss: 2.4068 - val_accuracy: 0.5001\n",
      "Epoch 73/100\n",
      "196/196 [==============================] - 5s 24ms/step - loss: 0.4378 - accuracy: 0.8423 - val_loss: 2.3954 - val_accuracy: 0.5034\n",
      "Epoch 74/100\n",
      "196/196 [==============================] - 5s 26ms/step - loss: 0.4332 - accuracy: 0.8434 - val_loss: 2.4465 - val_accuracy: 0.5027\n",
      "Epoch 75/100\n",
      "196/196 [==============================] - 5s 24ms/step - loss: 0.4305 - accuracy: 0.8459 - val_loss: 2.3830 - val_accuracy: 0.5096\n",
      "Epoch 76/100\n",
      "196/196 [==============================] - 5s 23ms/step - loss: 0.4083 - accuracy: 0.8535 - val_loss: 2.4871 - val_accuracy: 0.5124\n",
      "Epoch 77/100\n",
      "196/196 [==============================] - 5s 28ms/step - loss: 0.4132 - accuracy: 0.8515 - val_loss: 2.4864 - val_accuracy: 0.4964\n",
      "Epoch 78/100\n",
      "196/196 [==============================] - 5s 28ms/step - loss: 0.4063 - accuracy: 0.8540 - val_loss: 2.4959 - val_accuracy: 0.4988\n",
      "Epoch 79/100\n",
      "196/196 [==============================] - 5s 26ms/step - loss: 0.3988 - accuracy: 0.8566 - val_loss: 2.5376 - val_accuracy: 0.5034\n",
      "Epoch 80/100\n",
      "196/196 [==============================] - 5s 25ms/step - loss: 0.4133 - accuracy: 0.8531 - val_loss: 2.5645 - val_accuracy: 0.5018\n",
      "Epoch 81/100\n",
      "196/196 [==============================] - 5s 25ms/step - loss: 0.3906 - accuracy: 0.8607 - val_loss: 2.5868 - val_accuracy: 0.4930\n",
      "Epoch 82/100\n",
      "196/196 [==============================] - 5s 24ms/step - loss: 0.3632 - accuracy: 0.8696 - val_loss: 2.6622 - val_accuracy: 0.5010\n",
      "Epoch 83/100\n",
      "196/196 [==============================] - 5s 24ms/step - loss: 0.3828 - accuracy: 0.8623 - val_loss: 2.6123 - val_accuracy: 0.5035\n",
      "Epoch 84/100\n",
      "196/196 [==============================] - 5s 24ms/step - loss: 0.3526 - accuracy: 0.8746 - val_loss: 2.7343 - val_accuracy: 0.4994\n",
      "Epoch 85/100\n",
      "196/196 [==============================] - 5s 27ms/step - loss: 0.3620 - accuracy: 0.8686 - val_loss: 2.6881 - val_accuracy: 0.5020\n",
      "Epoch 86/100\n",
      "196/196 [==============================] - 5s 24ms/step - loss: 0.3463 - accuracy: 0.8784 - val_loss: 2.8063 - val_accuracy: 0.5011\n",
      "Epoch 87/100\n",
      "196/196 [==============================] - 5s 26ms/step - loss: 0.3795 - accuracy: 0.8633 - val_loss: 2.7535 - val_accuracy: 0.5020\n",
      "Epoch 88/100\n",
      "196/196 [==============================] - 5s 23ms/step - loss: 0.3523 - accuracy: 0.8729 - val_loss: 2.8718 - val_accuracy: 0.5035\n",
      "Epoch 89/100\n",
      "196/196 [==============================] - 5s 28ms/step - loss: 0.3505 - accuracy: 0.8734 - val_loss: 2.8843 - val_accuracy: 0.4995\n",
      "Epoch 90/100\n",
      "196/196 [==============================] - 5s 26ms/step - loss: 0.3225 - accuracy: 0.8857 - val_loss: 2.9456 - val_accuracy: 0.5009\n",
      "Epoch 91/100\n",
      "196/196 [==============================] - 5s 25ms/step - loss: 0.3376 - accuracy: 0.8792 - val_loss: 2.9564 - val_accuracy: 0.4995\n",
      "Epoch 92/100\n",
      "196/196 [==============================] - 5s 25ms/step - loss: 0.3269 - accuracy: 0.8817 - val_loss: 3.0407 - val_accuracy: 0.4982\n",
      "Epoch 93/100\n",
      "196/196 [==============================] - 5s 23ms/step - loss: 0.3285 - accuracy: 0.8815 - val_loss: 2.9808 - val_accuracy: 0.4971\n",
      "Epoch 94/100\n",
      "196/196 [==============================] - 5s 24ms/step - loss: 0.3216 - accuracy: 0.8843 - val_loss: 3.0731 - val_accuracy: 0.4951\n",
      "Epoch 95/100\n",
      "196/196 [==============================] - 5s 24ms/step - loss: 0.3225 - accuracy: 0.8820 - val_loss: 3.0095 - val_accuracy: 0.4941\n",
      "Epoch 96/100\n",
      "196/196 [==============================] - 4s 23ms/step - loss: 0.3140 - accuracy: 0.8859 - val_loss: 3.1475 - val_accuracy: 0.4875\n",
      "Epoch 97/100\n",
      "196/196 [==============================] - 5s 24ms/step - loss: 0.3364 - accuracy: 0.8794 - val_loss: 3.1158 - val_accuracy: 0.4970\n",
      "Epoch 98/100\n",
      "196/196 [==============================] - 5s 24ms/step - loss: 0.2895 - accuracy: 0.8961 - val_loss: 3.2311 - val_accuracy: 0.4926\n",
      "Epoch 99/100\n",
      "196/196 [==============================] - 5s 25ms/step - loss: 0.2987 - accuracy: 0.8924 - val_loss: 3.2068 - val_accuracy: 0.5056\n",
      "Epoch 100/100\n",
      "196/196 [==============================] - 5s 24ms/step - loss: 0.3035 - accuracy: 0.8891 - val_loss: 3.2408 - val_accuracy: 0.4947\n"
     ]
    },
    {
     "data": {
      "text/plain": [
       "<tensorflow.python.keras.callbacks.History at 0x13b9c8128>"
      ]
     },
     "execution_count": 8,
     "metadata": {},
     "output_type": "execute_result"
    }
   ],
   "source": [
    "# 訓練模型並檢視驗證集的結果\n",
    "model.fit(x_train, y_train, \n",
    "          epochs=100, \n",
    "          batch_size=256, \n",
    "          validation_data=(x_test, y_test), \n",
    "          shuffle=True)"
   ]
  },
  {
   "cell_type": "code",
   "execution_count": 11,
   "metadata": {},
   "outputs": [
    {
     "data": {
      "image/png": "[encoded data removed]",
      "text/plain": [
       "<Figure size 432x288 with 1 Axes>"
      ]
     },
     "metadata": {
      "needs_background": "light"
     },
     "output_type": "display_data"
    },
    {
     "data": {
      "image/png": "[encoded data removed]",
      "text/plain": [
       "<Figure size 432x288 with 1 Axes>"
      ]
     },
     "metadata": {
      "needs_background": "light"
     },
     "output_type": "display_data"
    }
   ],
   "source": [
    "# 以視覺畫方式檢視訓練過程\n",
    "import matplotlib.pyplot as plt\n",
    "train_loss = model.history.history[\"loss\"]\n",
    "valid_loss = model.history.history[\"val_loss\"]\n",
    "\n",
    "train_acc = model.history.history[\"accuracy\"]\n",
    "valid_acc = model.history.history[\"val_accuracy\"]\n",
    "\n",
    "plt.plot(range(len(train_loss)), train_loss, label=\"train loss\")\n",
    "plt.plot(range(len(valid_loss)), valid_loss, label=\"valid loss\")\n",
    "plt.legend()\n",
    "plt.title(\"Loss\")\n",
    "plt.show()\n",
    "\n",
    "plt.plot(range(len(train_acc)), train_acc, label=\"train accuracy\")\n",
    "plt.plot(range(len(valid_acc)), valid_acc, label=\"valid accuracy\")\n",
    "plt.legend()\n",
    "plt.title(\"Accuracy\")\n",
    "plt.show()"
   ]
  },
  {
   "cell_type": "markdown",
   "metadata": {},
   "source": [
    "## 作業\n",
    "1. 請將 Epoch 加到 500 個，並觀察 learning curve 的走勢\n",
    "2. 請將 Optimizer 換成 SGD，並觀察 learning curve 的走勢"
   ]
  }
 ],
 "metadata": {
  "kernelspec": {
   "display_name": "Python 3",
   "language": "python",
   "name": "python3"
  },
  "language_info": {
   "codemirror_mode": {
    "name": "ipython",
    "version": 3
   },
   "file_extension": ".py",
   "mimetype": "text/x-python",
   "name": "python",
   "nbconvert_exporter": "python",
   "pygments_lexer": "ipython3",
   "version": "3.6.0"
  }
 },
 "nbformat": 4,
 "nbformat_minor": 2
}
