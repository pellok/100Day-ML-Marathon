{
 "cells": [
  {
   "cell_type": "markdown",
   "metadata": {},
   "source": [
    "## [作業重點]\n",
    "清楚了解 L1, L2 的意義與差異為何，並了解 LASSO 與 Ridge 之間的差異與使用情境"
   ]
  },
  {
   "cell_type": "markdown",
   "metadata": {},
   "source": [
    "## 作業"
   ]
  },
  {
   "cell_type": "markdown",
   "metadata": {},
   "source": [
    "請閱讀相關文獻，並回答下列問題\n",
    "\n",
    "[脊回歸 (Ridge Regression)](https://blog.csdn.net/daunxx/article/details/51578787)\n",
    "[Linear, Ridge, Lasso Regression 本質區別](https://www.zhihu.com/question/38121173)\n",
    "\n",
    "1. LASSO 回歸可以被用來作為 Feature selection 的工具，請了解 LASSO 模型為什麼可用來作 Feature selection ?\n",
    "lasso 在優化過程的目標函數中使用L1 penalty 從而把一些線性回歸向的係數\"逼成零\"，這樣就可以挑選出比較重要的特徵\n",
    "\n",
    "2. 當自變數 (X) 存在高度共線性時，Ridge Regression 可以處理這樣的問題嗎?\n",
    "可以\n",
    "\n",
    "參考：\n",
    "在[《線性回歸(Linear Regression)》](https://blog.csdn.net/daunxx/article/details/51556677)中提到過，當使用最小二乘法計算線性回歸模型參數的時候，如果數據集合矩陣（也叫做設計矩陣(design matrix)）XX，存在多重共線性，那麼最小二乘法對輸入變量中的噪聲非常的敏感，其解會極為不穩定。為了解決這個問題，就有了這一節脊回歸（Ridge Regression ）。\n",
    "\n",
    "當設計矩陣XX存在多重共線性的時候（數學上稱為病態矩陣），最小二乘法求得的參數ww在數值上會非常的大，而一般的線性回歸其模型是 y =wTxy=wTx ，顯然，就是因為ww在數值上非常的大，所以，如果輸入變量xx有一個微小的變動，其反應在輸出結果上也會變得非常大，這就是對輸入變量總的噪聲非常敏感的原因。\n",
    "\n",
    "如果能限制參數ww的增長，使w不會變得特別大，那麼模型對輸入ww中噪聲的敏感度就會降低。這就是脊回歸和套索回歸（Ridge Regression and Lasso Regrission）的基本思想。\n"
   ]
  },
  {
   "cell_type": "code",
   "execution_count": null,
   "metadata": {},
   "outputs": [],
   "source": []
  }
 ],
 "metadata": {
  "kernelspec": {
   "display_name": "Python 3",
   "language": "python",
   "name": "python3"
  },
  "language_info": {
   "codemirror_mode": {
    "name": "ipython",
    "version": 3
   },
   "file_extension": ".py",
   "mimetype": "text/x-python",
   "name": "python",
   "nbconvert_exporter": "python",
   "pygments_lexer": "ipython3",
   "version": "3.6.0"
  }
 },
 "nbformat": 4,
 "nbformat_minor": 2
}
