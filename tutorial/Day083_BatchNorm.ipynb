{
 "cells": [
  {
   "cell_type": "markdown",
   "metadata": {},
   "source": [
    "## 範例重點\n",
    "* 學習如何在 keras 中加入 BatchNorm\n",
    "* 知道有無 BN 對訓練的影響\n",
    "* 比較 BN 在不同 batch size 下的效果"
   ]
  },
  {
   "cell_type": "code",
   "execution_count": 4,
   "metadata": {},
   "outputs": [],
   "source": [
    "import os\n",
    "import keras\n",
    "\n",
    "# 本範例不需使用 GPU, 將 GPU 設定為 \"無\"\n",
    "os.environ[\"CUDA_VISIBLE_DEVICES\"] = \"\""
   ]
  },
  {
   "cell_type": "code",
   "execution_count": 5,
   "metadata": {},
   "outputs": [],
   "source": [
    "train, test = keras.datasets.cifar10.load_data()"
   ]
  },
  {
   "cell_type": "code",
   "execution_count": 6,
   "metadata": {},
   "outputs": [],
   "source": [
    "## 資料前處理\n",
    "def preproc_x(x, flatten=True):\n",
    "    x = x / 255.\n",
    "    if flatten:\n",
    "        x = x.reshape((len(x), -1))\n",
    "    return x\n",
    "\n",
    "def preproc_y(y, num_classes=10):\n",
    "    if y.shape[-1] == 1:\n",
    "        y = keras.utils.to_categorical(y, num_classes)\n",
    "    return y    "
   ]
  },
  {
   "cell_type": "code",
   "execution_count": 7,
   "metadata": {},
   "outputs": [],
   "source": [
    "x_train, y_train = train\n",
    "x_test, y_test = test\n",
    "\n",
    "# 資料前處理 - X 標準化\n",
    "x_train = preproc_x(x_train)\n",
    "x_test = preproc_x(x_test)\n",
    "\n",
    "# 資料前處理 -Y 轉成 onehot\n",
    "y_train = preproc_y(y_train)\n",
    "y_test = preproc_y(y_test)"
   ]
  },
  {
   "cell_type": "code",
   "execution_count": 8,
   "metadata": {},
   "outputs": [],
   "source": [
    "from keras.layers import BatchNormalization\n",
    "\n",
    "\"\"\"\n",
    "建立神經網路，並加入 BN layer\n",
    "\"\"\"\n",
    "def build_mlp(input_shape, output_units=10, num_neurons=[512, 256, 128]):\n",
    "    input_layer = keras.layers.Input(input_shape)\n",
    "    \n",
    "    for i, n_units in enumerate(num_neurons):\n",
    "        if i == 0:\n",
    "            x = keras.layers.Dense(units=n_units, \n",
    "                                   activation=\"relu\", \n",
    "                                   name=\"hidden_layer\"+str(i+1))(input_layer)\n",
    "            x = BatchNormalization()(x)\n",
    "        else:\n",
    "            x = keras.layers.Dense(units=n_units, \n",
    "                                   activation=\"relu\", \n",
    "                                   name=\"hidden_layer\"+str(i+1))(x)\n",
    "            x = BatchNormalization()(x)\n",
    "    \n",
    "    out = keras.layers.Dense(units=output_units, activation=\"softmax\", name=\"output\")(x)\n",
    "    \n",
    "    model = keras.models.Model(inputs=[input_layer], outputs=[out])\n",
    "    return model"
   ]
  },
  {
   "cell_type": "code",
   "execution_count": 9,
   "metadata": {},
   "outputs": [],
   "source": [
    "## 超參數設定\n",
    "LEARNING_RATE = 1e-3\n",
    "EPOCHS = 50\n",
    "BATCH_SIZE = 1024\n",
    "MOMENTUM = 0.95"
   ]
  },
  {
   "cell_type": "code",
   "execution_count": 10,
   "metadata": {
    "scrolled": true
   },
   "outputs": [
    {
     "name": "stdout",
     "output_type": "stream",
     "text": [
      "Model: \"model\"\n",
      "_________________________________________________________________\n",
      "Layer (type)                 Output Shape              Param #   \n",
      "=================================================================\n",
      "input_1 (InputLayer)         [(None, 3072)]            0         \n",
      "_________________________________________________________________\n",
      "hidden_layer1 (Dense)        (None, 512)               1573376   \n",
      "_________________________________________________________________\n",
      "batch_normalization (BatchNo (None, 512)               2048      \n",
      "_________________________________________________________________\n",
      "hidden_layer2 (Dense)        (None, 256)               131328    \n",
      "_________________________________________________________________\n",
      "batch_normalization_1 (Batch (None, 256)               1024      \n",
      "_________________________________________________________________\n",
      "hidden_layer3 (Dense)        (None, 128)               32896     \n",
      "_________________________________________________________________\n",
      "batch_normalization_2 (Batch (None, 128)               512       \n",
      "_________________________________________________________________\n",
      "output (Dense)               (None, 10)                1290      \n",
      "=================================================================\n",
      "Total params: 1,742,474\n",
      "Trainable params: 1,740,682\n",
      "Non-trainable params: 1,792\n",
      "_________________________________________________________________\n",
      "Epoch 1/50\n",
      "49/49 [==============================] - 4s 81ms/step - loss: 2.2383 - accuracy: 0.2602 - val_loss: 2.0814 - val_accuracy: 0.2332\n",
      "Epoch 2/50\n",
      "49/49 [==============================] - 4s 84ms/step - loss: 1.7531 - accuracy: 0.3890 - val_loss: 1.9469 - val_accuracy: 0.3142\n",
      "Epoch 3/50\n",
      "49/49 [==============================] - 4s 78ms/step - loss: 1.6311 - accuracy: 0.4298 - val_loss: 1.8352 - val_accuracy: 0.3568\n",
      "Epoch 4/50\n",
      "49/49 [==============================] - 4s 79ms/step - loss: 1.5562 - accuracy: 0.4549 - val_loss: 1.7307 - val_accuracy: 0.4017\n",
      "Epoch 5/50\n",
      "49/49 [==============================] - 4s 81ms/step - loss: 1.5008 - accuracy: 0.4764 - val_loss: 1.6442 - val_accuracy: 0.4262\n",
      "Epoch 6/50\n",
      "49/49 [==============================] - 4s 78ms/step - loss: 1.4549 - accuracy: 0.4934 - val_loss: 1.5936 - val_accuracy: 0.4480\n",
      "Epoch 7/50\n",
      "49/49 [==============================] - 4s 82ms/step - loss: 1.4136 - accuracy: 0.5070 - val_loss: 1.5473 - val_accuracy: 0.4587\n",
      "Epoch 8/50\n",
      "49/49 [==============================] - 4s 76ms/step - loss: 1.3772 - accuracy: 0.5180 - val_loss: 1.5255 - val_accuracy: 0.4627\n",
      "Epoch 9/50\n",
      "49/49 [==============================] - 4s 87ms/step - loss: 1.3428 - accuracy: 0.5319 - val_loss: 1.4983 - val_accuracy: 0.4733\n",
      "Epoch 10/50\n",
      "49/49 [==============================] - 4s 82ms/step - loss: 1.3113 - accuracy: 0.5424 - val_loss: 1.4918 - val_accuracy: 0.4725\n",
      "Epoch 11/50\n",
      "49/49 [==============================] - 4s 80ms/step - loss: 1.2827 - accuracy: 0.5543 - val_loss: 1.4799 - val_accuracy: 0.4806\n",
      "Epoch 12/50\n",
      "49/49 [==============================] - 4s 82ms/step - loss: 1.2554 - accuracy: 0.5649 - val_loss: 1.4762 - val_accuracy: 0.4816\n",
      "Epoch 13/50\n",
      "49/49 [==============================] - 4s 78ms/step - loss: 1.2282 - accuracy: 0.5756 - val_loss: 1.4765 - val_accuracy: 0.4779\n",
      "Epoch 14/50\n",
      "49/49 [==============================] - 4s 82ms/step - loss: 1.2021 - accuracy: 0.5842 - val_loss: 1.4575 - val_accuracy: 0.4913\n",
      "Epoch 15/50\n",
      "49/49 [==============================] - 4s 80ms/step - loss: 1.1787 - accuracy: 0.5924 - val_loss: 1.4565 - val_accuracy: 0.4860\n",
      "Epoch 16/50\n",
      "49/49 [==============================] - 4s 84ms/step - loss: 1.1555 - accuracy: 0.6021 - val_loss: 1.4575 - val_accuracy: 0.4887\n",
      "Epoch 17/50\n",
      "49/49 [==============================] - 4s 79ms/step - loss: 1.1305 - accuracy: 0.6109 - val_loss: 1.4649 - val_accuracy: 0.4911\n",
      "Epoch 18/50\n",
      "49/49 [==============================] - 5s 99ms/step - loss: 1.1081 - accuracy: 0.6209 - val_loss: 1.4600 - val_accuracy: 0.4891\n",
      "Epoch 19/50\n",
      "49/49 [==============================] - 5s 99ms/step - loss: 1.0856 - accuracy: 0.6286 - val_loss: 1.4455 - val_accuracy: 0.4959\n",
      "Epoch 20/50\n",
      "49/49 [==============================] - 5s 105ms/step - loss: 1.0629 - accuracy: 0.6380 - val_loss: 1.4540 - val_accuracy: 0.4950\n",
      "Epoch 21/50\n",
      "49/49 [==============================] - 5s 98ms/step - loss: 1.0406 - accuracy: 0.6488 - val_loss: 1.4576 - val_accuracy: 0.4953\n",
      "Epoch 22/50\n",
      "49/49 [==============================] - 4s 89ms/step - loss: 1.0214 - accuracy: 0.6524 - val_loss: 1.4562 - val_accuracy: 0.5003\n",
      "Epoch 23/50\n",
      "49/49 [==============================] - 4s 85ms/step - loss: 1.0000 - accuracy: 0.6612 - val_loss: 1.4572 - val_accuracy: 0.4924\n",
      "Epoch 24/50\n",
      "49/49 [==============================] - 4s 85ms/step - loss: 0.9785 - accuracy: 0.6709 - val_loss: 1.4656 - val_accuracy: 0.4946\n",
      "Epoch 25/50\n",
      "49/49 [==============================] - 4s 81ms/step - loss: 0.9587 - accuracy: 0.6782 - val_loss: 1.4513 - val_accuracy: 0.4997\n",
      "Epoch 26/50\n",
      "49/49 [==============================] - 4s 84ms/step - loss: 0.9366 - accuracy: 0.6859 - val_loss: 1.4721 - val_accuracy: 0.4951\n",
      "Epoch 27/50\n",
      "49/49 [==============================] - 4s 82ms/step - loss: 0.9185 - accuracy: 0.6926 - val_loss: 1.4611 - val_accuracy: 0.4949\n",
      "Epoch 28/50\n",
      "49/49 [==============================] - 4s 83ms/step - loss: 0.8967 - accuracy: 0.7004 - val_loss: 1.4687 - val_accuracy: 0.4956\n",
      "Epoch 29/50\n",
      "49/49 [==============================] - 4s 83ms/step - loss: 0.8758 - accuracy: 0.7085 - val_loss: 1.4738 - val_accuracy: 0.4988\n",
      "Epoch 30/50\n",
      "49/49 [==============================] - 4s 86ms/step - loss: 0.8556 - accuracy: 0.7168 - val_loss: 1.4731 - val_accuracy: 0.5001\n",
      "Epoch 31/50\n",
      "49/49 [==============================] - 4s 85ms/step - loss: 0.8358 - accuracy: 0.7245 - val_loss: 1.4862 - val_accuracy: 0.4973\n",
      "Epoch 32/50\n",
      "49/49 [==============================] - 4s 85ms/step - loss: 0.8192 - accuracy: 0.7318 - val_loss: 1.4862 - val_accuracy: 0.5008\n",
      "Epoch 33/50\n",
      "49/49 [==============================] - 4s 90ms/step - loss: 0.7982 - accuracy: 0.7391 - val_loss: 1.4931 - val_accuracy: 0.4940\n",
      "Epoch 34/50\n",
      "49/49 [==============================] - 4s 83ms/step - loss: 0.7788 - accuracy: 0.7470 - val_loss: 1.5025 - val_accuracy: 0.4925\n",
      "Epoch 35/50\n",
      "49/49 [==============================] - 4s 85ms/step - loss: 0.7597 - accuracy: 0.7535 - val_loss: 1.4993 - val_accuracy: 0.4983\n",
      "Epoch 36/50\n",
      "49/49 [==============================] - 4s 90ms/step - loss: 0.7416 - accuracy: 0.7640 - val_loss: 1.5102 - val_accuracy: 0.4967\n",
      "Epoch 37/50\n",
      "49/49 [==============================] - 4s 87ms/step - loss: 0.7221 - accuracy: 0.7720 - val_loss: 1.5253 - val_accuracy: 0.4949\n",
      "Epoch 38/50\n",
      "49/49 [==============================] - 4s 87ms/step - loss: 0.7035 - accuracy: 0.7794 - val_loss: 1.5477 - val_accuracy: 0.4932\n",
      "Epoch 39/50\n",
      "49/49 [==============================] - 4s 87ms/step - loss: 0.6866 - accuracy: 0.7839 - val_loss: 1.5395 - val_accuracy: 0.4949\n",
      "Epoch 40/50\n",
      "49/49 [==============================] - 4s 87ms/step - loss: 0.6671 - accuracy: 0.7929 - val_loss: 1.5617 - val_accuracy: 0.4975\n",
      "Epoch 41/50\n",
      "49/49 [==============================] - 4s 89ms/step - loss: 0.6500 - accuracy: 0.7982 - val_loss: 1.5735 - val_accuracy: 0.4907\n",
      "Epoch 42/50\n",
      "49/49 [==============================] - 5s 98ms/step - loss: 0.6316 - accuracy: 0.8063 - val_loss: 1.5764 - val_accuracy: 0.4962\n",
      "Epoch 43/50\n",
      "49/49 [==============================] - 4s 84ms/step - loss: 0.6157 - accuracy: 0.8121 - val_loss: 1.5779 - val_accuracy: 0.4961\n",
      "Epoch 44/50\n",
      "49/49 [==============================] - 4s 90ms/step - loss: 0.5975 - accuracy: 0.8211 - val_loss: 1.5935 - val_accuracy: 0.4902\n",
      "Epoch 45/50\n",
      "49/49 [==============================] - 4s 89ms/step - loss: 0.5801 - accuracy: 0.8269 - val_loss: 1.6429 - val_accuracy: 0.4794\n",
      "Epoch 46/50\n",
      "49/49 [==============================] - 4s 88ms/step - loss: 0.5648 - accuracy: 0.8320 - val_loss: 1.6151 - val_accuracy: 0.4896\n",
      "Epoch 47/50\n",
      "49/49 [==============================] - 4s 88ms/step - loss: 0.5469 - accuracy: 0.8414 - val_loss: 1.6241 - val_accuracy: 0.4883\n",
      "Epoch 48/50\n",
      "49/49 [==============================] - 5s 93ms/step - loss: 0.5319 - accuracy: 0.8475 - val_loss: 1.6407 - val_accuracy: 0.4883\n"
     ]
    },
    {
     "name": "stdout",
     "output_type": "stream",
     "text": [
      "Epoch 49/50\n",
      "49/49 [==============================] - 4s 85ms/step - loss: 0.5139 - accuracy: 0.8538 - val_loss: 1.6379 - val_accuracy: 0.4950\n",
      "Epoch 50/50\n",
      "49/49 [==============================] - 5s 93ms/step - loss: 0.4972 - accuracy: 0.8599 - val_loss: 1.6673 - val_accuracy: 0.4848\n"
     ]
    }
   ],
   "source": [
    "model = build_mlp(input_shape=x_train.shape[1:])\n",
    "model.summary()\n",
    "optimizer = keras.optimizers.SGD(lr=LEARNING_RATE, nesterov=True, momentum=MOMENTUM)\n",
    "model.compile(loss=\"categorical_crossentropy\", metrics=[\"accuracy\"], optimizer=optimizer)\n",
    "\n",
    "model.fit(x_train, y_train, \n",
    "          epochs=EPOCHS, \n",
    "          batch_size=BATCH_SIZE, \n",
    "          validation_data=(x_test, y_test), \n",
    "          shuffle=True)\n",
    "\n",
    "# Collect results\n",
    "train_loss = model.history.history[\"loss\"]\n",
    "valid_loss = model.history.history[\"val_loss\"]\n",
    "train_acc = model.history.history[\"accuracy\"]\n",
    "valid_acc = model.history.history[\"val_accuracy\"]"
   ]
  },
  {
   "cell_type": "code",
   "execution_count": 11,
   "metadata": {},
   "outputs": [
    {
     "data": {
      "image/png": "[encoded data removed]",
      "text/plain": [
       "<Figure size 432x288 with 1 Axes>"
      ]
     },
     "metadata": {
      "needs_background": "light"
     },
     "output_type": "display_data"
    },
    {
     "data": {
      "image/png": "[encoded data removed]",
      "text/plain": [
       "<Figure size 432x288 with 1 Axes>"
      ]
     },
     "metadata": {
      "needs_background": "light"
     },
     "output_type": "display_data"
    }
   ],
   "source": [
    "import matplotlib.pyplot as plt\n",
    "%matplotlib inline\n",
    "\n",
    "plt.plot(range(len(train_loss)), train_loss, label=\"train loss\")\n",
    "plt.plot(range(len(valid_loss)), valid_loss, label=\"valid loss\")\n",
    "plt.legend()\n",
    "plt.title(\"Loss\")\n",
    "plt.show()\n",
    "\n",
    "plt.plot(range(len(train_acc)), train_acc, label=\"train accuracy\")\n",
    "plt.plot(range(len(valid_acc)), valid_acc, label=\"valid accuracy\")\n",
    "plt.legend()\n",
    "plt.title(\"Accuracy\")\n",
    "plt.show()"
   ]
  },
  {
   "cell_type": "markdown",
   "metadata": {},
   "source": [
    "## Work\n",
    "1. 試比較有 BN 在 Batch_size = 2, 16, 32, 128, 256 下的差異\n",
    "2. 請嘗試將 BN 放在 Activation 之前，並比較訓練結果\n",
    "3. 請於 BN 放在 Input Layer 後，並比較結果"
   ]
  }
 ],
 "metadata": {
  "kernelspec": {
   "display_name": "Python 3",
   "language": "python",
   "name": "python3"
  },
  "language_info": {
   "codemirror_mode": {
    "name": "ipython",
    "version": 3
   },
   "file_extension": ".py",
   "mimetype": "text/x-python",
   "name": "python",
   "nbconvert_exporter": "python",
   "pygments_lexer": "ipython3",
   "version": "3.6.0"
  }
 },
 "nbformat": 4,
 "nbformat_minor": 2
}
