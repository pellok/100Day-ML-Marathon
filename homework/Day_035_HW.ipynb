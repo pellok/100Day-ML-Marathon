{
 "cells": [
  {
   "cell_type": "markdown",
   "metadata": {},
   "source": [
    "## 練習時間\n",
    "相信大家對回歸問題及分類問題都有初步的了解。今天的作業希望大家搜尋有關 multi-label 的案例問題。下圖是電影 \"奇異博士\" 的分類。可以看到同時有 \"Action\", \"Adventure\", \"Fantasy\" 的類別存在，代表這是個多標籤的問題。 "
   ]
  },
  {
   "cell_type": "markdown",
   "metadata": {},
   "source": [
    "![image](https://cdn-images-1.medium.com/max/1000/1*r0gYXMSQf5VhdMyl2bRDyg.png)"
   ]
  },
  {
   "cell_type": "markdown",
   "metadata": {},
   "source": [
    "## 請搜尋目標為多標籤問題 (Multi-label) 的機器學習案例，了解其資料來源、目標以及評估指標為何\n",
    "## Hint: 服飾"
   ]
  },
  {
   "cell_type": "markdown",
   "metadata": {},
   "source": [
    "參考：https://medium.com/ai%E5%8F%8D%E6%96%97%E5%9F%8E/learning-model-multi-lable-classification-74d2799ff395\n",
    "\n",
    "自己產生\n",
    "sparse（稀疏） :如果是True，返回一個稀疏矩陣，稀疏矩陣表示一個有大量零元素的矩陣。\n",
    "n_labels :每個實例的標籤的平均數量。\n",
    "return_indicator :“sparse”在稀疏的二進制指示器格式中返回Y。\n",
    "allow_unlabeled :如果是True，有些實例可能不屬於任何類。"
   ]
  },
  {
   "cell_type": "code",
   "execution_count": 2,
   "metadata": {},
   "outputs": [],
   "source": [
    "from sklearn.datasets import make_multilabel_classification\n",
    "# this will generate a random multi-label dataset\n",
    "X, y = make_multilabel_classification(sparse=True, \n",
    "                                      n_labels=20,\n",
    "                                      return_indicator='sparse', \n",
    "                                      allow_unlabeled=False)"
   ]
  },
  {
   "cell_type": "markdown",
   "metadata": {},
   "source": [
    "有三種方法來解決一個多標籤分類問題\n",
    "1. 問題轉換:\n",
    "問題轉換方法的核心是“改造樣本數據使其適應現有學習算法”。該類方法的思路是通過處理多標記訓練樣本，使其適應現有的學習算法，也就是將多標記學習問題轉換為現有的學習問題進行求解。\n",
    "a.代表性學習算法有一階方法Binary Relevance，該方法將多標記學習問題轉化為“二類分類( binary classification )”問題求解；\n",
    "b.二階方法Calibrated Label Ranking，該方法將多標記學習問題轉化為“標記排序( labelranking )問題求解；\n",
    "c.高階方法Random k-labelset，該方法將多標記學習問題轉化為“多類分類(Multiclass classification)”問題求解。\n",
    "2. 改編算法:\n",
    "算法適應方法的核心是“改造現有的單標記學習算法使其適應多標記數據”。該類方法的基本思想是通過對傳統的機器學習方法的改進，使其能夠解決多標記問題。\n",
    "a.代表性學習算法有一階方法ML-kNN}，該方法將“惰性學習(lazy learning )”算法k近鄰進行改造以適應多標記數據；\n",
    "b.二階方法Rank-SVM，該方法將“核學習(kernel learning )”算法SVM進行改造以適應多標記數據；\n",
    "c.高階方法LEAD，該方法將“貝葉斯學習(Bayes learning)算法”Bayes網絡進行改造以適應多標記數據。\n",
    "3. 集成方法"
   ]
  },
  {
   "cell_type": "code",
   "execution_count": null,
   "metadata": {},
   "outputs": [],
   "source": []
  }
 ],
 "metadata": {
  "kernelspec": {
   "display_name": "Python 3",
   "language": "python",
   "name": "python3"
  },
  "language_info": {
   "codemirror_mode": {
    "name": "ipython",
    "version": 3
   },
   "file_extension": ".py",
   "mimetype": "text/x-python",
   "name": "python",
   "nbconvert_exporter": "python",
   "pygments_lexer": "ipython3",
   "version": "3.6.0"
  }
 },
 "nbformat": 4,
 "nbformat_minor": 2
}
