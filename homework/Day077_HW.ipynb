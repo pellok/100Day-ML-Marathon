{
 "cells": [
  {
   "cell_type": "markdown",
   "metadata": {},
   "source": [
    "## Work\n",
    "1. 請將 Epoch 加到 500 個，並觀察 learning curve 的走勢\n",
    "2. 請將 Optimizer 換成 SGD，並觀察 learning curve 的走勢"
   ]
  },
  {
   "cell_type": "code",
   "execution_count": 1,
   "metadata": {},
   "outputs": [
    {
     "name": "stderr",
     "output_type": "stream",
     "text": [
      "Using TensorFlow backend.\n"
     ]
    }
   ],
   "source": [
    "import os\n",
    "import keras\n",
    "\n",
    "# 本作業可以不需使用 GPU, 將 GPU 設定為 \"無\" (若有 GPU 且想開啟，可設為 \"0\")\n",
    "os.environ[\"CUDA_VISIBLE_DEVICES\"] = \"\""
   ]
  },
  {
   "cell_type": "code",
   "execution_count": 2,
   "metadata": {},
   "outputs": [],
   "source": [
    "# 從 Keras 的內建功能中，取得 train 與 test 資料集\n",
    "train, test = keras.datasets.cifar10.load_data()"
   ]
  },
  {
   "cell_type": "code",
   "execution_count": 3,
   "metadata": {},
   "outputs": [],
   "source": [
    "# 將 X 與 Y 獨立放進變數\n",
    "x_train, y_train = train\n",
    "x_test, y_test = test\n",
    "# 資料前處理 - 標準化\n",
    "x_train = x_train / 255.\n",
    "x_test = x_test / 255.\n",
    "\n",
    "# 將資料從圖形 (RGB) 轉為向量 (Single Vector)\n",
    "x_train = x_train.reshape((len(x_train), -1))\n",
    "x_test = x_test.reshape((len(x_test), -1))\n",
    "\n",
    "# 將目標轉為 one-hot encoding\n",
    "y_train = keras.utils.to_categorical(y_train, num_classes=10)\n",
    "y_test = keras.utils.to_categorical(y_test, num_classes=10)"
   ]
  },
  {
   "cell_type": "code",
   "execution_count": 6,
   "metadata": {},
   "outputs": [
    {
     "name": "stdout",
     "output_type": "stream",
     "text": [
      "x_train shape:(50000, 3072)\n",
      "x_test shape:(10000, 3072)\n",
      "y_train shape:(50000, 10)\n",
      "y_test shape:(10000, 10)\n"
     ]
    }
   ],
   "source": [
    "print(f'x_train shape:{x_train.shape}')\n",
    "print(f'x_test shape:{x_test.shape}')\n",
    "print(f'y_train shape:{y_train.shape}')\n",
    "print(f'y_test shape:{y_test.shape}')"
   ]
  },
  {
   "cell_type": "code",
   "execution_count": 9,
   "metadata": {},
   "outputs": [
    {
     "name": "stdout",
     "output_type": "stream",
     "text": [
      "Model: \"model_1\"\n",
      "_________________________________________________________________\n",
      "Layer (type)                 Output Shape              Param #   \n",
      "=================================================================\n",
      "input_3 (InputLayer)         [(None, 3072)]            0         \n",
      "_________________________________________________________________\n",
      "dense_5 (Dense)              (None, 512)               1573376   \n",
      "_________________________________________________________________\n",
      "dense_6 (Dense)              (None, 256)               131328    \n",
      "_________________________________________________________________\n",
      "dense_7 (Dense)              (None, 128)               32896     \n",
      "_________________________________________________________________\n",
      "dense_8 (Dense)              (None, 10)                1290      \n",
      "=================================================================\n",
      "Total params: 1,738,890\n",
      "Trainable params: 1,738,890\n",
      "Non-trainable params: 0\n",
      "_________________________________________________________________\n"
     ]
    }
   ],
   "source": [
    "def build_mlp():\n",
    "    \"\"\"Code Here\n",
    "    建立你的神經網路\n",
    "    \"\"\"\n",
    "    input_layer = keras.layers.Input([x_train.shape[-1]])\n",
    "    x = keras.layers.Dense(units=512, activation=\"relu\")(input_layer)\n",
    "    x = keras.layers.Dense(units=256, activation=\"relu\")(x)\n",
    "    x = keras.layers.Dense(units=128, activation=\"relu\")(x)\n",
    "    out = keras.layers.Dense(units=10, activation=\"softmax\")(x)\n",
    "    model = keras.models.Model(inputs=[input_layer], outputs=[out])\n",
    "    return model\n",
    "model = build_mlp()\n",
    "model.summary()"
   ]
  },
  {
   "cell_type": "code",
   "execution_count": 10,
   "metadata": {},
   "outputs": [],
   "source": [
    "\"\"\"\n",
    "Compile 模型\n",
    "\"\"\"\n",
    "optimizer = keras.optimizers.SGD(learning_rate=0.01, momentum=0.0, nesterov=False)\n",
    "model.compile(loss=\"categorical_crossentropy\", metrics=[\"accuracy\"], optimizer=optimizer)\n"
   ]
  },
  {
   "cell_type": "code",
   "execution_count": null,
   "metadata": {
    "scrolled": true
   },
   "outputs": [
    {
     "name": "stdout",
     "output_type": "stream",
     "text": [
      "Epoch 1/500\n",
      "196/196 [==============================] - 4s 18ms/step - loss: 2.0924 - accuracy: 0.2561 - val_loss: 1.9907 - val_accuracy: 0.2785\n",
      "Epoch 2/500\n",
      "196/196 [==============================] - 4s 18ms/step - loss: 1.9026 - accuracy: 0.3277 - val_loss: 1.8919 - val_accuracy: 0.3308\n",
      "Epoch 3/500\n",
      "196/196 [==============================] - 4s 20ms/step - loss: 1.8318 - accuracy: 0.3525 - val_loss: 1.8894 - val_accuracy: 0.3052\n",
      "Epoch 4/500\n",
      "196/196 [==============================] - 4s 21ms/step - loss: 1.7852 - accuracy: 0.3705 - val_loss: 1.8352 - val_accuracy: 0.3446\n",
      "Epoch 5/500\n",
      "196/196 [==============================] - 4s 21ms/step - loss: 1.7481 - accuracy: 0.3837 - val_loss: 1.7487 - val_accuracy: 0.3767\n",
      "Epoch 6/500\n",
      "196/196 [==============================] - 7s 35ms/step - loss: 1.7169 - accuracy: 0.3942 - val_loss: 1.6951 - val_accuracy: 0.4044\n",
      "Epoch 7/500\n",
      "196/196 [==============================] - 5s 24ms/step - loss: 1.6873 - accuracy: 0.4047 - val_loss: 1.7043 - val_accuracy: 0.3921\n",
      "Epoch 8/500\n",
      "196/196 [==============================] - 5s 24ms/step - loss: 1.6665 - accuracy: 0.4154 - val_loss: 1.6784 - val_accuracy: 0.4078\n",
      "Epoch 9/500\n",
      "196/196 [==============================] - 5s 25ms/step - loss: 1.6424 - accuracy: 0.4208 - val_loss: 1.7449 - val_accuracy: 0.3771\n",
      "Epoch 10/500\n",
      "196/196 [==============================] - 5s 28ms/step - loss: 1.6263 - accuracy: 0.4271 - val_loss: 1.6266 - val_accuracy: 0.4206\n",
      "Epoch 11/500\n",
      "196/196 [==============================] - 5s 25ms/step - loss: 1.6047 - accuracy: 0.4357 - val_loss: 1.6044 - val_accuracy: 0.4247\n",
      "Epoch 12/500\n",
      "196/196 [==============================] - 6s 29ms/step - loss: 1.5893 - accuracy: 0.4426 - val_loss: 1.6352 - val_accuracy: 0.4184\n",
      "Epoch 13/500\n",
      "196/196 [==============================] - 5s 25ms/step - loss: 1.5756 - accuracy: 0.4458 - val_loss: 1.6975 - val_accuracy: 0.3834\n",
      "Epoch 14/500\n",
      "196/196 [==============================] - 5s 24ms/step - loss: 1.5633 - accuracy: 0.4480 - val_loss: 1.5847 - val_accuracy: 0.4393\n",
      "Epoch 15/500\n",
      "196/196 [==============================] - 5s 25ms/step - loss: 1.5445 - accuracy: 0.4573 - val_loss: 1.6355 - val_accuracy: 0.4276\n",
      "Epoch 16/500\n",
      " 11/196 [>.............................] - ETA: 2s - loss: 1.5092 - accuracy: 0.4666"
     ]
    }
   ],
   "source": [
    "\"\"\"\n",
    "設定要訓練的 Epoch 數\n",
    "\"\"\"\n",
    "model.fit(x_train, y_train, \n",
    "          epochs=500, \n",
    "          batch_size=256, \n",
    "          validation_data=(x_test, y_test), \n",
    "          shuffle=True)"
   ]
  },
  {
   "cell_type": "code",
   "execution_count": null,
   "metadata": {},
   "outputs": [],
   "source": [
    "import matplotlib.pyplot as plt\n",
    "# 以視覺畫方式檢視訓練過程\n",
    "\n",
    "train_loss = model.history.history[\"loss\"]\n",
    "valid_loss = model.history.history[\"val_loss\"]\n",
    "\n",
    "train_acc = model.history.history[\"accuracy\"]\n",
    "valid_acc = model.history.history[\"val_accuracy\"]\n",
    "\n",
    "plt.plot(range(len(train_loss)), train_loss, label=\"train loss\")\n",
    "plt.plot(range(len(valid_loss)), valid_loss, label=\"valid loss\")\n",
    "plt.legend()\n",
    "plt.title(\"Loss\")\n",
    "plt.show()\n",
    "\n",
    "plt.plot(range(len(train_acc)), train_acc, label=\"train accuracy\")\n",
    "plt.plot(range(len(valid_acc)), valid_acc, label=\"valid accuracy\")\n",
    "plt.legend()\n",
    "plt.title(\"Accuracy\")\n",
    "plt.show()"
   ]
  },
  {
   "cell_type": "code",
   "execution_count": null,
   "metadata": {},
   "outputs": [],
   "source": []
  }
 ],
 "metadata": {
  "kernelspec": {
   "display_name": "Python 3",
   "language": "python",
   "name": "python3"
  },
  "language_info": {
   "codemirror_mode": {
    "name": "ipython",
    "version": 3
   },
   "file_extension": ".py",
   "mimetype": "text/x-python",
   "name": "python",
   "nbconvert_exporter": "python",
   "pygments_lexer": "ipython3",
   "version": "3.6.0"
  }
 },
 "nbformat": 4,
 "nbformat_minor": 2
}
