{
 "cells": [
  {
   "cell_type": "markdown",
   "metadata": {},
   "source": [
    "## Work\n",
    "1. 試比較有 BN 在 Batch_size = 2, 16, 32, 128, 256 下的差異\n",
    "2. 請嘗試將 BN 放在 Activation 之前，並比較訓練結果\n",
    "3. 請於 BN 放在 Input Layer 後，並比較結果"
   ]
  },
  {
   "cell_type": "code",
   "execution_count": 1,
   "metadata": {},
   "outputs": [
    {
     "name": "stderr",
     "output_type": "stream",
     "text": [
      "Using TensorFlow backend.\n"
     ]
    }
   ],
   "source": [
    "import os\n",
    "import keras\n",
    "import itertools\n",
    "# Disable GPU\n",
    "os.environ[\"CUDA_VISIBLE_DEVICES\"] = \"\""
   ]
  },
  {
   "cell_type": "code",
   "execution_count": 2,
   "metadata": {},
   "outputs": [],
   "source": [
    "train, test = keras.datasets.cifar10.load_data()"
   ]
  },
  {
   "cell_type": "code",
   "execution_count": 3,
   "metadata": {},
   "outputs": [],
   "source": [
    "## 資料前處理\n",
    "def preproc_x(x, flatten=True):\n",
    "    x = x / 255.\n",
    "    if flatten:\n",
    "        x = x.reshape((len(x), -1))\n",
    "    return x\n",
    "\n",
    "def preproc_y(y, num_classes=10):\n",
    "    if y.shape[-1] == 1:\n",
    "        y = keras.utils.to_categorical(y, num_classes)\n",
    "    return y    "
   ]
  },
  {
   "cell_type": "code",
   "execution_count": 4,
   "metadata": {},
   "outputs": [],
   "source": [
    "x_train, y_train = train\n",
    "x_test, y_test = test\n",
    "\n",
    "# Preproc the inputs\n",
    "x_train = preproc_x(x_train)\n",
    "x_test = preproc_x(x_test)\n",
    "\n",
    "# Preprc the outputs\n",
    "y_train = preproc_y(y_train)\n",
    "y_test = preproc_y(y_test)"
   ]
  },
  {
   "cell_type": "code",
   "execution_count": 5,
   "metadata": {},
   "outputs": [],
   "source": [
    "from keras.layers import BatchNormalization\n",
    "keras.backend.clear_session()\n",
    "def build_mlp(input_shape, output_units=10, num_neurons=[512, 256, 128]):\n",
    "    \"\"\"Code Here\n",
    "    建立你的神經網路\n",
    "    \"\"\"\n",
    "    input_layer = keras.layers.Input(input_shape)\n",
    "#     x = BatchNormalization()(input_layer)\n",
    "    for i, n_units in enumerate(num_neurons):\n",
    "\n",
    "        if i == 0:\n",
    "            x = keras.layers.Dense(units=n_units,\n",
    "                                   activation=\"relu\",\n",
    "                                   name=\"hidden_layer\"+str(i+1))(input_layer)\n",
    "        else:\n",
    "            x = keras.layers.Dense(units=n_units,\n",
    "                                   activation=\"relu\",\n",
    "                                   name=\"hidden_layer\"+str(i+1))(x)\n",
    "        \n",
    "        x = BatchNormalization()(x)\n",
    "        \n",
    "    out = keras.layers.Dense(units=output_units,\n",
    "                             activation=\"softmax\",\n",
    "                             name=\"output\")(x)\n",
    "    \n",
    "    model = keras.models.Model(inputs=[input_layer], outputs=[out])\n",
    "    \n",
    "    return model"
   ]
  },
  {
   "cell_type": "code",
   "execution_count": 6,
   "metadata": {},
   "outputs": [],
   "source": [
    "\"\"\"Code Here\n",
    "設定超參數\n",
    "\"\"\"\n",
    "LEARNING_RATE = 1e-3\n",
    "EPOCHS = 50\n",
    "BATCH_SIZE = 1024\n",
    "MOMENTUM = 0.95"
   ]
  },
  {
   "cell_type": "code",
   "execution_count": 7,
   "metadata": {
    "scrolled": true
   },
   "outputs": [
    {
     "name": "stdout",
     "output_type": "stream",
     "text": [
      "Model: \"model\"\n",
      "_________________________________________________________________\n",
      "Layer (type)                 Output Shape              Param #   \n",
      "=================================================================\n",
      "input_1 (InputLayer)         [(None, 3072)]            0         \n",
      "_________________________________________________________________\n",
      "hidden_layer1 (Dense)        (None, 512)               1573376   \n",
      "_________________________________________________________________\n",
      "batch_normalization (BatchNo (None, 512)               2048      \n",
      "_________________________________________________________________\n",
      "hidden_layer2 (Dense)        (None, 256)               131328    \n",
      "_________________________________________________________________\n",
      "batch_normalization_1 (Batch (None, 256)               1024      \n",
      "_________________________________________________________________\n",
      "hidden_layer3 (Dense)        (None, 128)               32896     \n",
      "_________________________________________________________________\n",
      "batch_normalization_2 (Batch (None, 128)               512       \n",
      "_________________________________________________________________\n",
      "output (Dense)               (None, 10)                1290      \n",
      "=================================================================\n",
      "Total params: 1,742,474\n",
      "Trainable params: 1,740,682\n",
      "Non-trainable params: 1,792\n",
      "_________________________________________________________________\n",
      "Epoch 1/50\n",
      "49/49 [==============================] - 4s 82ms/step - loss: 2.2029 - accuracy: 0.2764 - val_loss: 2.1688 - val_accuracy: 0.2008\n",
      "Epoch 2/50\n",
      "49/49 [==============================] - 4s 78ms/step - loss: 1.7495 - accuracy: 0.3911 - val_loss: 2.0012 - val_accuracy: 0.2794\n",
      "Epoch 3/50\n",
      "49/49 [==============================] - 4s 78ms/step - loss: 1.6239 - accuracy: 0.4339 - val_loss: 1.8498 - val_accuracy: 0.3435\n",
      "Epoch 4/50\n",
      "49/49 [==============================] - 4s 79ms/step - loss: 1.5512 - accuracy: 0.4587 - val_loss: 1.7325 - val_accuracy: 0.3932\n",
      "Epoch 5/50\n",
      "49/49 [==============================] - 4s 80ms/step - loss: 1.4963 - accuracy: 0.4778 - val_loss: 1.6513 - val_accuracy: 0.4201\n",
      "Epoch 6/50\n",
      "49/49 [==============================] - 4s 80ms/step - loss: 1.4511 - accuracy: 0.4940 - val_loss: 1.5850 - val_accuracy: 0.4477\n",
      "Epoch 7/50\n",
      "49/49 [==============================] - 4s 83ms/step - loss: 1.4112 - accuracy: 0.5070 - val_loss: 1.5544 - val_accuracy: 0.4510\n",
      "Epoch 8/50\n",
      "49/49 [==============================] - 5s 102ms/step - loss: 1.3771 - accuracy: 0.5184 - val_loss: 1.5277 - val_accuracy: 0.4614\n",
      "Epoch 9/50\n",
      "49/49 [==============================] - 4s 85ms/step - loss: 1.3442 - accuracy: 0.5322 - val_loss: 1.5122 - val_accuracy: 0.4611\n",
      "Epoch 10/50\n",
      "49/49 [==============================] - 4s 85ms/step - loss: 1.3130 - accuracy: 0.5426 - val_loss: 1.5029 - val_accuracy: 0.4644\n",
      "Epoch 11/50\n",
      "49/49 [==============================] - 4s 84ms/step - loss: 1.2847 - accuracy: 0.5546 - val_loss: 1.4955 - val_accuracy: 0.4732\n",
      "Epoch 12/50\n",
      "49/49 [==============================] - 4s 87ms/step - loss: 1.2582 - accuracy: 0.5629 - val_loss: 1.4749 - val_accuracy: 0.4740\n",
      "Epoch 13/50\n",
      "49/49 [==============================] - 4s 85ms/step - loss: 1.2320 - accuracy: 0.5734 - val_loss: 1.4807 - val_accuracy: 0.4765\n",
      "Epoch 14/50\n",
      "49/49 [==============================] - 4s 88ms/step - loss: 1.2068 - accuracy: 0.5818 - val_loss: 1.4629 - val_accuracy: 0.4831\n",
      "Epoch 15/50\n",
      "49/49 [==============================] - 4s 89ms/step - loss: 1.1831 - accuracy: 0.5894 - val_loss: 1.4627 - val_accuracy: 0.4810\n",
      "Epoch 16/50\n",
      "49/49 [==============================] - 4s 89ms/step - loss: 1.1572 - accuracy: 0.6006 - val_loss: 1.4643 - val_accuracy: 0.4863\n",
      "Epoch 17/50\n",
      "49/49 [==============================] - 4s 87ms/step - loss: 1.1346 - accuracy: 0.6099 - val_loss: 1.4653 - val_accuracy: 0.4808\n",
      "Epoch 18/50\n",
      "49/49 [==============================] - 4s 89ms/step - loss: 1.1133 - accuracy: 0.6159 - val_loss: 1.4631 - val_accuracy: 0.4835\n",
      "Epoch 19/50\n",
      "49/49 [==============================] - 4s 91ms/step - loss: 1.0929 - accuracy: 0.6253 - val_loss: 1.4482 - val_accuracy: 0.4908\n",
      "Epoch 20/50\n",
      "49/49 [==============================] - 4s 89ms/step - loss: 1.0706 - accuracy: 0.6335 - val_loss: 1.4540 - val_accuracy: 0.4881\n",
      "Epoch 21/50\n",
      "49/49 [==============================] - 4s 87ms/step - loss: 1.0469 - accuracy: 0.6428 - val_loss: 1.4580 - val_accuracy: 0.4895\n",
      "Epoch 22/50\n",
      "49/49 [==============================] - 4s 90ms/step - loss: 1.0254 - accuracy: 0.6513 - val_loss: 1.4619 - val_accuracy: 0.4877\n",
      "Epoch 23/50\n",
      "49/49 [==============================] - 4s 89ms/step - loss: 1.0062 - accuracy: 0.6583 - val_loss: 1.4557 - val_accuracy: 0.4902\n",
      "Epoch 24/50\n",
      "49/49 [==============================] - 4s 92ms/step - loss: 0.9838 - accuracy: 0.6652 - val_loss: 1.4648 - val_accuracy: 0.4906\n",
      "Epoch 25/50\n",
      "49/49 [==============================] - 5s 93ms/step - loss: 0.9651 - accuracy: 0.6736 - val_loss: 1.4685 - val_accuracy: 0.4850\n",
      "Epoch 26/50\n",
      "49/49 [==============================] - 5s 94ms/step - loss: 0.9449 - accuracy: 0.6812 - val_loss: 1.4779 - val_accuracy: 0.4906\n",
      "Epoch 27/50\n",
      "49/49 [==============================] - 5s 96ms/step - loss: 0.9235 - accuracy: 0.6903 - val_loss: 1.4641 - val_accuracy: 0.4921\n",
      "Epoch 28/50\n",
      "49/49 [==============================] - 5s 94ms/step - loss: 0.9008 - accuracy: 0.6984 - val_loss: 1.4929 - val_accuracy: 0.4904\n",
      "Epoch 29/50\n",
      "49/49 [==============================] - 5s 98ms/step - loss: 0.8836 - accuracy: 0.7046 - val_loss: 1.4858 - val_accuracy: 0.4918\n",
      "Epoch 30/50\n",
      "49/49 [==============================] - 5s 96ms/step - loss: 0.8644 - accuracy: 0.7135 - val_loss: 1.4797 - val_accuracy: 0.4931\n",
      "Epoch 31/50\n",
      "49/49 [==============================] - 5s 97ms/step - loss: 0.8440 - accuracy: 0.7206 - val_loss: 1.4850 - val_accuracy: 0.4941\n",
      "Epoch 32/50\n",
      "49/49 [==============================] - 6s 127ms/step - loss: 0.8256 - accuracy: 0.7283 - val_loss: 1.4973 - val_accuracy: 0.4895\n",
      "Epoch 33/50\n",
      "49/49 [==============================] - 7s 133ms/step - loss: 0.8041 - accuracy: 0.7382 - val_loss: 1.5077 - val_accuracy: 0.4940\n",
      "Epoch 34/50\n",
      "49/49 [==============================] - 7s 150ms/step - loss: 0.7865 - accuracy: 0.7440 - val_loss: 1.5213 - val_accuracy: 0.4905\n",
      "Epoch 35/50\n",
      "49/49 [==============================] - 6s 119ms/step - loss: 0.7662 - accuracy: 0.7535 - val_loss: 1.5293 - val_accuracy: 0.4880\n",
      "Epoch 36/50\n",
      "49/49 [==============================] - 7s 135ms/step - loss: 0.7477 - accuracy: 0.7601 - val_loss: 1.5392 - val_accuracy: 0.4829\n",
      "Epoch 37/50\n",
      "49/49 [==============================] - 6s 130ms/step - loss: 0.7284 - accuracy: 0.7679 - val_loss: 1.5404 - val_accuracy: 0.4951\n",
      "Epoch 38/50\n",
      "49/49 [==============================] - 7s 140ms/step - loss: 0.7090 - accuracy: 0.7753 - val_loss: 1.5546 - val_accuracy: 0.4887\n",
      "Epoch 39/50\n",
      "49/49 [==============================] - 7s 141ms/step - loss: 0.6924 - accuracy: 0.7825 - val_loss: 1.5653 - val_accuracy: 0.4931\n",
      "Epoch 40/50\n",
      "49/49 [==============================] - 6s 131ms/step - loss: 0.6719 - accuracy: 0.7895 - val_loss: 1.5810 - val_accuracy: 0.4933\n",
      "Epoch 41/50\n",
      "49/49 [==============================] - 7s 143ms/step - loss: 0.6543 - accuracy: 0.7978 - val_loss: 1.5916 - val_accuracy: 0.4886\n",
      "Epoch 42/50\n",
      "49/49 [==============================] - 6s 128ms/step - loss: 0.6357 - accuracy: 0.8039 - val_loss: 1.6036 - val_accuracy: 0.4885\n",
      "Epoch 43/50\n",
      "49/49 [==============================] - 6s 128ms/step - loss: 0.6219 - accuracy: 0.8105 - val_loss: 1.6129 - val_accuracy: 0.4929\n",
      "Epoch 44/50\n",
      "49/49 [==============================] - 6s 121ms/step - loss: 0.6011 - accuracy: 0.8179 - val_loss: 1.5923 - val_accuracy: 0.4972\n",
      "Epoch 45/50\n",
      "49/49 [==============================] - 5s 104ms/step - loss: 0.5821 - accuracy: 0.8273 - val_loss: 1.6252 - val_accuracy: 0.4911\n",
      "Epoch 46/50\n",
      "49/49 [==============================] - 7s 137ms/step - loss: 0.5660 - accuracy: 0.8321 - val_loss: 1.6447 - val_accuracy: 0.4868\n",
      "Epoch 47/50\n",
      "49/49 [==============================] - 7s 139ms/step - loss: 0.5509 - accuracy: 0.8388 - val_loss: 1.6481 - val_accuracy: 0.4935\n",
      "Epoch 48/50\n",
      "49/49 [==============================] - 7s 134ms/step - loss: 0.5337 - accuracy: 0.8457 - val_loss: 1.6609 - val_accuracy: 0.4894\n"
     ]
    },
    {
     "name": "stdout",
     "output_type": "stream",
     "text": [
      "Epoch 49/50\n",
      "49/49 [==============================] - 7s 138ms/step - loss: 0.5157 - accuracy: 0.8538 - val_loss: 1.6740 - val_accuracy: 0.4841\n",
      "Epoch 50/50\n",
      "49/49 [==============================] - 7s 136ms/step - loss: 0.4986 - accuracy: 0.8599 - val_loss: 1.6872 - val_accuracy: 0.4918\n"
     ]
    }
   ],
   "source": [
    "results = {}\n",
    "\"\"\"Code Here\n",
    "撰寫你的訓練流程並將結果用 dictionary 紀錄\n",
    "\"\"\"\n",
    "model = build_mlp(input_shape=x_train.shape[1:])\n",
    "model.summary()\n",
    "optimizer = keras.optimizers.SGD(lr=LEARNING_RATE, nesterov=True, momentum=MOMENTUM)\n",
    "model.compile(loss=\"categorical_crossentropy\", metrics=[\"accuracy\"], optimizer=optimizer)\n",
    "model.fit(x_train, y_train,\n",
    "          epochs=EPOCHS,\n",
    "          batch_size=BATCH_SIZE,\n",
    "          validation_data=(x_test,y_test),\n",
    "          shuffle=True\n",
    "         )\n",
    "\n",
    "train_loss = model.history.history[\"loss\"]\n",
    "valid_loss = model.history.history[\"val_loss\"]\n",
    "train_acc = model.history.history[\"accuracy\"]\n",
    "valid_acc = model.history.history[\"val_accuracy\"]"
   ]
  },
  {
   "cell_type": "code",
   "execution_count": 9,
   "metadata": {},
   "outputs": [
    {
     "data": {
      "image/png": "[encoded data removed]",
      "text/plain": [
       "<Figure size 432x288 with 1 Axes>"
      ]
     },
     "metadata": {
      "needs_background": "light"
     },
     "output_type": "display_data"
    },
    {
     "data": {
      "image/png": "[encoded data removed]",
      "text/plain": [
       "<Figure size 432x288 with 1 Axes>"
      ]
     },
     "metadata": {
      "needs_background": "light"
     },
     "output_type": "display_data"
    }
   ],
   "source": [
    "import matplotlib.pyplot as plt\n",
    "%matplotlib inline\n",
    "\"\"\"Code Here\n",
    "將結果繪出\n",
    "\"\"\"\n",
    "plt.plot(range(len(train_loss)), train_loss, label=\"train loss\")\n",
    "plt.plot(range(len(valid_loss)), valid_loss, label=\"valid loss\")\n",
    "plt.legend()\n",
    "plt.title(\"Loss\")\n",
    "plt.show()\n",
    "\n",
    "plt.plot(range(len(train_acc)), train_acc, label=\"train accuracy\")\n",
    "plt.plot(range(len(valid_acc)), valid_acc, label=\"valid accuracy\")\n",
    "plt.legend()\n",
    "plt.title(\"Loss\")\n",
    "plt.show()\n"
   ]
  },
  {
   "cell_type": "code",
   "execution_count": null,
   "metadata": {},
   "outputs": [],
   "source": []
  }
 ],
 "metadata": {
  "kernelspec": {
   "display_name": "Python 3",
   "language": "python",
   "name": "python3"
  },
  "language_info": {
   "codemirror_mode": {
    "name": "ipython",
    "version": 3
   },
   "file_extension": ".py",
   "mimetype": "text/x-python",
   "name": "python",
   "nbconvert_exporter": "python",
   "pygments_lexer": "ipython3",
   "version": "3.6.0"
  }
 },
 "nbformat": 4,
 "nbformat_minor": 2
}
